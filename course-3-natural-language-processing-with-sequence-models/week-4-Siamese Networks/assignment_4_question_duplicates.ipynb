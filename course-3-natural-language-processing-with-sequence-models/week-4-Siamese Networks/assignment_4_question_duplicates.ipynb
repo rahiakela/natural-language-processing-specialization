{
  "nbformat": 4,
  "nbformat_minor": 0,
  "metadata": {
    "colab": {
      "name": "assignment-4-question-duplicates.ipynb",
      "provenance": [],
      "toc_visible": true,
      "authorship_tag": "ABX9TyOSZJos5fk/C0B+5tEoBvl3",
      "include_colab_link": true
    },
    "kernelspec": {
      "name": "python3",
      "display_name": "Python 3"
    },
    "accelerator": "GPU"
  },
  "cells": [
    {
      "cell_type": "markdown",
      "metadata": {
        "id": "view-in-github",
        "colab_type": "text"
      },
      "source": [
        "<a href=\"https://colab.research.google.com/github/rahiakela/natural-language-processing-specialization/blob/master/course-3-natural-language-processing-with-sequence-models/week-4-Siamese%20Networks/assignment_4_question_duplicates.ipynb\" target=\"_parent\"><img src=\"https://colab.research.google.com/assets/colab-badge.svg\" alt=\"Open In Colab\"/></a>"
      ]
    },
    {
      "cell_type": "markdown",
      "metadata": {
        "id": "4m-5rCMm44dd"
      },
      "source": [
        "## Assignment 4:  Question duplicates"
      ]
    },
    {
      "cell_type": "markdown",
      "metadata": {
        "id": "vK6_N3eT5Rqa"
      },
      "source": [
        "Welcome to the fourth assignment of course 3. In this assignment you will explore Siamese networks applied to natural language processing. You will further explore the fundamentals of Trax and you will be able to implement a more complicated structure using it. By completing this assignment, you will learn how to implement models with different architectures. "
      ]
    },
    {
      "cell_type": "markdown",
      "metadata": {
        "id": "N9bCq6zk5StV"
      },
      "source": [
        "## Outline"
      ]
    },
    {
      "cell_type": "markdown",
      "metadata": {
        "id": "IfOAPZkN5Uqi"
      },
      "source": [
        "- [Overview](#0)\n",
        "- [Part 1: Importing the Data](#1)\n",
        "    - [1.1 Loading in the data](#1.1)\n",
        "    - [1.2 Converting a question to a tensor](#1.2)\n",
        "    - [1.3 Understanding the iterator](#1.3)\n",
        "        - [Exercise 01](#ex01)\n",
        "- [Part 2: Defining the Siamese model](#2)\n",
        "    - [2.1 Understanding Siamese Network](#2.1)\n",
        "        - [Exercise 02](#ex02)\n",
        "    - [2.2 Hard  Negative Mining](#2.2)\n",
        "        - [Exercise 03](#ex03)\n",
        "- [Part 3: Training](#3)\n",
        "    - [3.1 Training the model](#3.1)\n",
        "        - [Exercise 04](#ex04)\n",
        "- [Part 4: Evaluation](#4)\n",
        "    - [4.1 Evaluating your siamese network](#4.1)\n",
        "    - [4.2 Classify](#4.2)\n",
        "        - [Exercise 05](#ex05)\n",
        "- [Part 5: Testing with your own questions](#5)\n",
        "    - [Exercise 06](#ex06)\n",
        "- [On Siamese networks](#6)"
      ]
    },
    {
      "cell_type": "markdown",
      "metadata": {
        "id": "9hQkng9Z5XaZ"
      },
      "source": [
        "<a name='0'></a>\n",
        "## Overview"
      ]
    },
    {
      "cell_type": "markdown",
      "metadata": {
        "id": "XV8sZeFv5aZS"
      },
      "source": [
        "In this assignment, concretely you will: \n",
        "\n",
        "- Learn about Siamese networks\n",
        "- Understand how the triplet loss works\n",
        "- Understand how to evaluate accuracy\n",
        "- Use cosine similarity between the model's outputted vectors\n",
        "- Use the data generator to get batches of questions\n",
        "- Predict using your own model\n",
        "\n",
        "By now, you are familiar with trax and know how to make use of classes to define your model. We will start this homework by asking you to preprocess the data the same way you did in the previous assignments. After processing the data you will build a classifier that will allow you to identify whether to questions are the same or not. \n",
        "\n",
        "<img src='https://github.com/rahiakela/img-repo/blob/master/deeplearning.ai-NLPS/meme.png?raw=1' width='800'/>\n",
        "\n",
        "\n",
        "You will process the data first and then pad in a similar way you have done in the previous assignment. Your model will take in the two question embeddings, run them through an LSTM, and then compare the outputs of the two sub networks using cosine similarity. Before taking a deep dive into the model, start by importing the data set."
      ]
    },
    {
      "cell_type": "markdown",
      "metadata": {
        "id": "b-QkVgrcmJhI"
      },
      "source": [
        "##Setup"
      ]
    },
    {
      "cell_type": "code",
      "metadata": {
        "id": "l014pQv2mKuz"
      },
      "source": [
        "!pip install trax==1.3.9"
      ],
      "execution_count": null,
      "outputs": []
    },
    {
      "cell_type": "code",
      "metadata": {
        "id": "_qac3yDVmNJE"
      },
      "source": [
        "import os\n",
        "import nltk\n",
        "import trax\n",
        "from trax import layers as tl\n",
        "from trax.supervised import training\n",
        "from trax.fastmath import numpy as fastnp\n",
        "import numpy as np\n",
        "import pandas as pd\n",
        "import random as rnd\n",
        "from collections import defaultdict\n",
        "\n",
        "# set random seeds\n",
        "# trax.supervised.trainer_lib.init_random_number_generators(34)\n",
        "rnd.seed(34)\n",
        "\n",
        "import warnings\n",
        "warnings.filterwarnings(\"ignore\", category=FutureWarning)\n",
        "warnings.filterwarnings(\"ignore\", category=UserWarning)"
      ],
      "execution_count": null,
      "outputs": []
    },
    {
      "cell_type": "code",
      "metadata": {
        "colab": {
          "base_uri": "https://localhost:8080/"
        },
        "id": "-kgPVNCfsV17",
        "outputId": "d0451be9-8c91-4fb8-d78e-ff47c097d8fc"
      },
      "source": [
        "nltk.download('punkt')"
      ],
      "execution_count": null,
      "outputs": [
        {
          "output_type": "stream",
          "text": [
            "[nltk_data] Downloading package punkt to /root/nltk_data...\n",
            "[nltk_data]   Unzipping tokenizers/punkt.zip.\n"
          ],
          "name": "stdout"
        },
        {
          "output_type": "execute_result",
          "data": {
            "text/plain": [
              "True"
            ]
          },
          "metadata": {
            "tags": []
          },
          "execution_count": 3
        }
      ]
    },
    {
      "cell_type": "markdown",
      "metadata": {
        "id": "nX4ckHsorJEJ"
      },
      "source": [
        "**Notice that for this assignment Trax's numpy is referred to as `fastnp`, while regular numpy is referred to as `np`.**"
      ]
    },
    {
      "cell_type": "code",
      "metadata": {
        "id": "jPWSvWX4pCRa",
        "colab": {
          "base_uri": "https://localhost:8080/"
        },
        "outputId": "b8be4424-f36b-4d84-be7b-04d7d6dfcecd"
      },
      "source": [
        "%%shell\n",
        "\n",
        "wget -q https://github.com/rahiakela/coursera-natural-language-processing-specialization/raw/master/course-3-natural-language-processing-with-sequence-models/week-4-Siamese%20Networks/questions-datasets.zip\n",
        "unzip questions-datasets.zip"
      ],
      "execution_count": null,
      "outputs": [
        {
          "output_type": "execute_result",
          "data": {
            "text/plain": [
              ""
            ]
          },
          "metadata": {
            "tags": []
          },
          "execution_count": 4
        }
      ]
    },
    {
      "cell_type": "markdown",
      "metadata": {
        "id": "nseaoqKr5ke6"
      },
      "source": [
        "<a name='1'></a>\n",
        "## Part 1: Importing the Data"
      ]
    },
    {
      "cell_type": "markdown",
      "metadata": {
        "id": "uNiEjbfb5lqX"
      },
      "source": [
        "<a name='1.1'></a>\n",
        "### 1.1 Loading in the data"
      ]
    },
    {
      "cell_type": "markdown",
      "metadata": {
        "id": "Q932AjbW5oFO"
      },
      "source": [
        "You will be using the Quora question answer dataset to build a model that could identify similar questions. This is a useful task because you don't want to have several versions of the same question posted. Several times when teaching I end up responding to similar questions on piazza, or on other community forums. This data set has been labeled for you.\n",
        "\n",
        "You will now load in the data set. We have done some preprocessing for you. If you have taken the deeplearning specialization, this is a slightly different training method than the one you have seen there. If you have not, then don't worry about it, we will explain everything. "
      ]
    },
    {
      "cell_type": "code",
      "metadata": {
        "id": "QhbOKDmF6YQI",
        "colab": {
          "base_uri": "https://localhost:8080/",
          "height": 222
        },
        "outputId": "2cd83a6c-f2cb-42f5-bd38-9aa7d54094a2"
      },
      "source": [
        "data = pd.read_csv(\"questions.csv\")\n",
        "N=len(data)\n",
        "print('Number of question pairs: ', N)\n",
        "data.head()"
      ],
      "execution_count": null,
      "outputs": [
        {
          "output_type": "stream",
          "text": [
            "Number of question pairs:  404351\n"
          ],
          "name": "stdout"
        },
        {
          "output_type": "execute_result",
          "data": {
            "text/html": [
              "<div>\n",
              "<style scoped>\n",
              "    .dataframe tbody tr th:only-of-type {\n",
              "        vertical-align: middle;\n",
              "    }\n",
              "\n",
              "    .dataframe tbody tr th {\n",
              "        vertical-align: top;\n",
              "    }\n",
              "\n",
              "    .dataframe thead th {\n",
              "        text-align: right;\n",
              "    }\n",
              "</style>\n",
              "<table border=\"1\" class=\"dataframe\">\n",
              "  <thead>\n",
              "    <tr style=\"text-align: right;\">\n",
              "      <th></th>\n",
              "      <th>id</th>\n",
              "      <th>qid1</th>\n",
              "      <th>qid2</th>\n",
              "      <th>question1</th>\n",
              "      <th>question2</th>\n",
              "      <th>is_duplicate</th>\n",
              "    </tr>\n",
              "  </thead>\n",
              "  <tbody>\n",
              "    <tr>\n",
              "      <th>0</th>\n",
              "      <td>0</td>\n",
              "      <td>1</td>\n",
              "      <td>2</td>\n",
              "      <td>What is the step by step guide to invest in sh...</td>\n",
              "      <td>What is the step by step guide to invest in sh...</td>\n",
              "      <td>0</td>\n",
              "    </tr>\n",
              "    <tr>\n",
              "      <th>1</th>\n",
              "      <td>1</td>\n",
              "      <td>3</td>\n",
              "      <td>4</td>\n",
              "      <td>What is the story of Kohinoor (Koh-i-Noor) Dia...</td>\n",
              "      <td>What would happen if the Indian government sto...</td>\n",
              "      <td>0</td>\n",
              "    </tr>\n",
              "    <tr>\n",
              "      <th>2</th>\n",
              "      <td>2</td>\n",
              "      <td>5</td>\n",
              "      <td>6</td>\n",
              "      <td>How can I increase the speed of my internet co...</td>\n",
              "      <td>How can Internet speed be increased by hacking...</td>\n",
              "      <td>0</td>\n",
              "    </tr>\n",
              "    <tr>\n",
              "      <th>3</th>\n",
              "      <td>3</td>\n",
              "      <td>7</td>\n",
              "      <td>8</td>\n",
              "      <td>Why am I mentally very lonely? How can I solve...</td>\n",
              "      <td>Find the remainder when [math]23^{24}[/math] i...</td>\n",
              "      <td>0</td>\n",
              "    </tr>\n",
              "    <tr>\n",
              "      <th>4</th>\n",
              "      <td>4</td>\n",
              "      <td>9</td>\n",
              "      <td>10</td>\n",
              "      <td>Which one dissolve in water quikly sugar, salt...</td>\n",
              "      <td>Which fish would survive in salt water?</td>\n",
              "      <td>0</td>\n",
              "    </tr>\n",
              "  </tbody>\n",
              "</table>\n",
              "</div>"
            ],
            "text/plain": [
              "   id  qid1  ...                                          question2 is_duplicate\n",
              "0   0     1  ...  What is the step by step guide to invest in sh...            0\n",
              "1   1     3  ...  What would happen if the Indian government sto...            0\n",
              "2   2     5  ...  How can Internet speed be increased by hacking...            0\n",
              "3   3     7  ...  Find the remainder when [math]23^{24}[/math] i...            0\n",
              "4   4     9  ...            Which fish would survive in salt water?            0\n",
              "\n",
              "[5 rows x 6 columns]"
            ]
          },
          "metadata": {
            "tags": []
          },
          "execution_count": 5
        }
      ]
    },
    {
      "cell_type": "markdown",
      "metadata": {
        "id": "8GPC63iHoInc"
      },
      "source": [
        "We first split the data into a train and test set. The test set will be used later to evaluate our model."
      ]
    },
    {
      "cell_type": "code",
      "metadata": {
        "colab": {
          "base_uri": "https://localhost:8080/"
        },
        "id": "NhCyBhucoH6Z",
        "outputId": "b6659645-72a8-48da-ce62-380277c16768"
      },
      "source": [
        "N_train = 300000\n",
        "N_test = 10*1024\n",
        "\n",
        "data_train = data[: N_train]\n",
        "data_test = data[N_train: N_train + N_test]\n",
        "\n",
        "print(\"Train set:\", len(data_train), \"Test set:\", len(data_test))\n",
        "del(data) # remove to free memory"
      ],
      "execution_count": null,
      "outputs": [
        {
          "output_type": "stream",
          "text": [
            "Train set: 300000 Test set: 10240\n"
          ],
          "name": "stdout"
        }
      ]
    },
    {
      "cell_type": "markdown",
      "metadata": {
        "id": "cin9XsfVonRb"
      },
      "source": [
        "As explained in the lectures, we select only the question pairs that are duplicate to train the model. <br>\n",
        "We build two batches as input for the Siamese network and we assume that question $q1_i$ (question $i$ in the first batch) is a duplicate of $q2_i$ (question $i$ in the second batch), but all other questions in the second batch are not duplicates of $q1_i$.  \n",
        "\n",
        "The test set uses the original pairs of questions and the status describing if the questions are duplicates."
      ]
    },
    {
      "cell_type": "code",
      "metadata": {
        "colab": {
          "base_uri": "https://localhost:8080/"
        },
        "id": "cM82RQsSokrs",
        "outputId": "d8a0b4df-0682-46cb-bd89-ac9a58533814"
      },
      "source": [
        "td_index = (data_train[\"is_duplicate\"] == 1).to_numpy()\n",
        "td_index = [i for i, x in enumerate(td_index) if x]\n",
        "\n",
        "print('number of duplicate questions: ', len(td_index))\n",
        "print('indexes of first ten duplicate questions:', td_index[:10])"
      ],
      "execution_count": null,
      "outputs": [
        {
          "output_type": "stream",
          "text": [
            "number of duplicate questions:  111486\n",
            "indexes of first ten duplicate questions: [5, 7, 11, 12, 13, 15, 16, 18, 20, 29]\n"
          ],
          "name": "stdout"
        }
      ]
    },
    {
      "cell_type": "code",
      "metadata": {
        "colab": {
          "base_uri": "https://localhost:8080/"
        },
        "id": "tWM84_cwpIpd",
        "outputId": "a57fe3b1-f8a0-423e-f558-da06332b99a6"
      },
      "source": [
        "print(data_train['question1'][5])  #  Example of question duplicates (first one in data)\n",
        "print(data_train['question2'][5])\n",
        "print('is_duplicate: ', data_train['is_duplicate'][5])"
      ],
      "execution_count": null,
      "outputs": [
        {
          "output_type": "stream",
          "text": [
            "Astrology: I am a Capricorn Sun Cap moon and cap rising...what does that say about me?\n",
            "I'm a triple Capricorn (Sun, Moon and ascendant in Capricorn) What does this say about me?\n",
            "is_duplicate:  1\n"
          ],
          "name": "stdout"
        }
      ]
    },
    {
      "cell_type": "code",
      "metadata": {
        "id": "JjNvBB7dpNnn"
      },
      "source": [
        "Q1_train_words = np.array(data_train['question1'][td_index])\n",
        "Q2_train_words = np.array(data_train['question2'][td_index])\n",
        "\n",
        "Q1_test_words = np.array(data_test['question1'])\n",
        "Q2_test_words = np.array(data_test['question2'])\n",
        "y_test  = np.array(data_test['is_duplicate'])"
      ],
      "execution_count": null,
      "outputs": []
    },
    {
      "cell_type": "markdown",
      "metadata": {
        "id": "9AAO5ccapTXb"
      },
      "source": [
        "Above, you have seen that you only took the duplicated questions for training our model. <br>You did so on purpose, because the data generator will produce batches $([q1_1, q1_2, q1_3, ...]$, $[q2_1, q2_2,q2_3, ...])$  where $q1_i$ and $q2_k$ are duplicate if and only if $i = k$.\n",
        "\n",
        "<br>Let's print to see what your data looks like."
      ]
    },
    {
      "cell_type": "code",
      "metadata": {
        "colab": {
          "base_uri": "https://localhost:8080/"
        },
        "id": "YBgXvV7eqpkz",
        "outputId": "a3143689-550f-40dd-d556-c5844e00a3c5"
      },
      "source": [
        "print('TRAINING QUESTIONS:\\n')\n",
        "print('Question 1: ', Q1_train_words[0])\n",
        "print('Question 2: ', Q2_train_words[0], '\\n')\n",
        "print('Question 1: ', Q1_train_words[5])\n",
        "print('Question 2: ', Q2_train_words[5], '\\n')\n",
        "\n",
        "print('TESTING QUESTIONS:\\n')\n",
        "print('Question 1: ', Q1_test_words[0])\n",
        "print('Question 2: ', Q2_test_words[0], '\\n')\n",
        "print('is_duplicate =', y_test[0], '\\n')"
      ],
      "execution_count": null,
      "outputs": [
        {
          "output_type": "stream",
          "text": [
            "TRAINING QUESTIONS:\n",
            "\n",
            "Question 1:  Astrology: I am a Capricorn Sun Cap moon and cap rising...what does that say about me?\n",
            "Question 2:  I'm a triple Capricorn (Sun, Moon and ascendant in Capricorn) What does this say about me? \n",
            "\n",
            "Question 1:  What would a Trump presidency mean for current international master’s students on an F1 visa?\n",
            "Question 2:  How will a Trump presidency affect the students presently in US or planning to study in US? \n",
            "\n",
            "TESTING QUESTIONS:\n",
            "\n",
            "Question 1:  How do I prepare for interviews for cse?\n",
            "Question 2:  What is the best way to prepare for cse? \n",
            "\n",
            "is_duplicate = 0 \n",
            "\n"
          ],
          "name": "stdout"
        }
      ]
    },
    {
      "cell_type": "markdown",
      "metadata": {
        "id": "SVLniSLDq6sI"
      },
      "source": [
        "You will now encode each word of the selected duplicate pairs with an index. <br> Given a question, you can then just encode it as a list of numbers.  \n",
        "\n",
        "First you tokenize the questions using `nltk.word_tokenize`. <br>\n",
        "You need a python default dictionary which later, during inference, assigns the values $0$ to all Out Of Vocabulary (OOV) words.<br>\n",
        "Then you encode each word of the selected duplicate pairs with an index. Given a question, you can then just encode it as a list of numbers. "
      ]
    },
    {
      "cell_type": "code",
      "metadata": {
        "id": "bjllU_C9qqYe"
      },
      "source": [
        "# #create arrays\n",
        "Q1_train = np.empty_like(Q1_train_words)\n",
        "Q2_train = np.empty_like(Q2_train_words)\n",
        "\n",
        "Q1_test = np.empty_like(Q1_test_words)\n",
        "Q2_test = np.empty_like(Q2_test_words)"
      ],
      "execution_count": null,
      "outputs": []
    },
    {
      "cell_type": "code",
      "metadata": {
        "colab": {
          "base_uri": "https://localhost:8080/"
        },
        "id": "q1P84vzGrVk9",
        "outputId": "248bc482-1d0a-4b96-8127-a3341a29a7ad"
      },
      "source": [
        "# Building the vocabulary with the train set         (this might take a minute)\n",
        "vocab = defaultdict(lambda: 0)\n",
        "vocab[\"<PAD>\"] = 1\n",
        "\n",
        "for idx in range(len(Q1_train_words)):\n",
        "  Q1_train[idx] = nltk.word_tokenize(Q1_train_words[idx])\n",
        "  Q2_train[idx] = nltk.word_tokenize(Q2_train_words[idx])\n",
        "\n",
        "  q = Q1_train[idx] + Q2_train[idx]\n",
        "  for word in q:\n",
        "    if word not in vocab:\n",
        "      vocab[word] = len(vocab) + 1\n",
        "print('The length of the vocabulary is: ', len(vocab)) "
      ],
      "execution_count": null,
      "outputs": [
        {
          "output_type": "stream",
          "text": [
            "The length of the vocabulary is:  36342\n"
          ],
          "name": "stdout"
        }
      ]
    },
    {
      "cell_type": "code",
      "metadata": {
        "colab": {
          "base_uri": "https://localhost:8080/"
        },
        "id": "uEhnsMFFsSfG",
        "outputId": "df653c2b-9743-437a-be22-47442191d35d"
      },
      "source": [
        "print(vocab['<PAD>'])\n",
        "print(vocab['Astrology'])\n",
        "print(vocab['Astronomy'])  #not in vocabulary, returns 0"
      ],
      "execution_count": null,
      "outputs": [
        {
          "output_type": "stream",
          "text": [
            "1\n",
            "2\n",
            "0\n"
          ],
          "name": "stdout"
        }
      ]
    },
    {
      "cell_type": "code",
      "metadata": {
        "id": "7WD5S_XvsfXW"
      },
      "source": [
        "for idx in range(len(Q1_test_words)): \n",
        "  Q1_test[idx] = nltk.word_tokenize(Q1_test_words[idx])\n",
        "  Q2_test[idx] = nltk.word_tokenize(Q2_test_words[idx])"
      ],
      "execution_count": null,
      "outputs": []
    },
    {
      "cell_type": "code",
      "metadata": {
        "colab": {
          "base_uri": "https://localhost:8080/"
        },
        "id": "QrB3ybP_sfxn",
        "outputId": "1f8e1a10-d9df-40c6-a1e1-943ef8413566"
      },
      "source": [
        "print('Train set has reduced to: ', len(Q1_train) ) \n",
        "print('Test set length: ', len(Q1_test) ) "
      ],
      "execution_count": null,
      "outputs": [
        {
          "output_type": "stream",
          "text": [
            "Train set has reduced to:  111486\n",
            "Test set length:  10240\n"
          ],
          "name": "stdout"
        }
      ]
    },
    {
      "cell_type": "markdown",
      "metadata": {
        "id": "YsD5DAUrsj4R"
      },
      "source": [
        "<a name='1.2'></a>\n",
        "### 1.2 Converting a question to a tensor"
      ]
    },
    {
      "cell_type": "markdown",
      "metadata": {
        "id": "rvqeN6EDskWP"
      },
      "source": [
        "You will now convert every question to a tensor, or an array of numbers, using your vocabulary built above."
      ]
    },
    {
      "cell_type": "code",
      "metadata": {
        "id": "O514b6uasmWp"
      },
      "source": [
        "# Converting questions to array of integers\n",
        "for i in range(len(Q1_train)):\n",
        "  Q1_train[i] = [vocab[word] for word in Q1_train[i]]\n",
        "  Q2_train[i] = [vocab[word] for word in Q2_train[i]]\n",
        "\n",
        "for i in range(len(Q1_test)):\n",
        "  Q1_test[i] = [vocab[word] for word in Q1_test[i]]\n",
        "  Q2_test[i] = [vocab[word] for word in Q2_test[i]]"
      ],
      "execution_count": null,
      "outputs": []
    },
    {
      "cell_type": "code",
      "metadata": {
        "colab": {
          "base_uri": "https://localhost:8080/"
        },
        "id": "Ou1Jma4JtV9n",
        "outputId": "cfec4f82-c2f0-4940-edaa-c14133895297"
      },
      "source": [
        "print('first question in the train set:\\n')\n",
        "print(Q1_train_words[0], '\\n') \n",
        "print('encoded version:')\n",
        "print(Q1_train[0],'\\n')\n",
        "\n",
        "print('first question in the test set:\\n')\n",
        "print(Q1_test_words[0], '\\n')\n",
        "print('encoded version:')\n",
        "print(Q1_test[0]) "
      ],
      "execution_count": null,
      "outputs": [
        {
          "output_type": "stream",
          "text": [
            "first question in the train set:\n",
            "\n",
            "Astrology: I am a Capricorn Sun Cap moon and cap rising...what does that say about me? \n",
            "\n",
            "encoded version:\n",
            "[2, 3, 4, 5, 6, 7, 8, 9, 10, 11, 12, 13, 14, 15, 16, 17, 18, 19, 20, 21] \n",
            "\n",
            "first question in the test set:\n",
            "\n",
            "How do I prepare for interviews for cse? \n",
            "\n",
            "encoded version:\n",
            "[32, 38, 4, 107, 65, 1015, 65, 11522, 21]\n"
          ],
          "name": "stdout"
        }
      ]
    },
    {
      "cell_type": "markdown",
      "metadata": {
        "id": "06L1UZ5btiSd"
      },
      "source": [
        "You will now split your train set into a training/validation set so that you can use it to train and evaluate your Siamese model."
      ]
    },
    {
      "cell_type": "code",
      "metadata": {
        "colab": {
          "base_uri": "https://localhost:8080/"
        },
        "id": "tucGxxTKtXjL",
        "outputId": "3fdf00ff-fe00-4de7-d137-85d2849a187c"
      },
      "source": [
        "# Splitting the data\n",
        "cut_off = int(len(Q1_train) * 0.8)\n",
        "\n",
        "train_Q1, train_Q2 = Q1_train[: cut_off], Q2_train[: cut_off]\n",
        "val_Q1, val_Q2 = Q1_train[cut_off:], Q2_train[cut_off:]\n",
        "\n",
        "print('Number of duplicate questions: ', len(Q1_train))\n",
        "print(\"The length of the training set is:  \", len(train_Q1))\n",
        "print(\"The length of the validation set is: \", len(val_Q1))"
      ],
      "execution_count": null,
      "outputs": [
        {
          "output_type": "stream",
          "text": [
            "Number of duplicate questions:  111486\n",
            "The length of the training set is:   89188\n",
            "The length of the validation set is:  22298\n"
          ],
          "name": "stdout"
        }
      ]
    },
    {
      "cell_type": "markdown",
      "metadata": {
        "id": "UHo-baJvuDd5"
      },
      "source": [
        "<a name='1.3'></a>\n",
        "### 1.3 Understanding the iterator "
      ]
    },
    {
      "cell_type": "markdown",
      "metadata": {
        "id": "qKgQVbrNuFWp"
      },
      "source": [
        "Most of the time in Natural Language Processing, and AI in general we use batches when training our data sets. If you were to use stochastic gradient descent with one example at a time, it will take you forever to build a model. In this example, we show you how you can build a data generator that takes in $Q1$ and $Q2$ and returns a batch of size `batch_size`  in the following format $([q1_1, q1_2, q1_3, ...]$, $[q2_1, q2_2,q2_3, ...])$. The tuple consists of two arrays and each array has `batch_size` questions. Again, $q1_i$ and $q2_i$ are duplicates, but they are not duplicates with any other elements in the batch. \n",
        "\n",
        "<br>\n",
        "\n",
        "The command ```next(data_generator)```returns the next batch. This iterator returns the data in a format that you could directly use in your model when computing the feed-forward of your algorithm. This iterator returns a pair of arrays of questions. "
      ]
    },
    {
      "cell_type": "markdown",
      "metadata": {
        "id": "J2tYFpQkxp8T"
      },
      "source": [
        "<a name='ex01'></a>\n",
        "#### Exercise 01"
      ]
    },
    {
      "cell_type": "markdown",
      "metadata": {
        "id": "td_mJ8CRxt82"
      },
      "source": [
        "**Instructions:**  \n",
        "Implement the data generator below. Here are some things you will need. \n",
        "\n",
        "- While true loop.\n",
        "- if `index >= len_Q1`, set the `idx` to $0$.\n",
        "- The generator should return shuffled batches of data. To achieve this without modifying the actual question lists, a list containing the indexes of the questions is created. This list can be shuffled and used to get random batches everytime the index is reset.\n",
        "- Append elements of $Q1$ and $Q2$ to `input1` and `input2` respectively.\n",
        "- if `len(input1) == batch_size`, determine `max_len` as the longest question in `input1` and `input2`. Ceil `max_len` to a power of $2$ (for computation purposes) using the following command:  `max_len = 2**int(np.ceil(np.log2(max_len)))`.\n",
        "- Pad every question by `vocab['<PAD>']` until you get the length `max_len`.\n",
        "- Use yield to return `input1, input2`. \n",
        "- Don't forget to reset `input1, input2`  to empty arrays at the end (data generator resumes from where it last left)."
      ]
    },
    {
      "cell_type": "code",
      "metadata": {
        "id": "UWd637xKxwNy"
      },
      "source": [
        "# UNQ_C1 (UNIQUE CELL IDENTIFIER, DO NOT EDIT)\n",
        "# GRADED FUNCTION: data_generator\n",
        "def data_generator(Q1, Q2, batch_size, pad=1, shuffle=True):\n",
        "  \"\"\"Generator function that yields batches of data\n",
        "\n",
        "  Args:\n",
        "      Q1 (list): List of transformed (to tensor) questions.\n",
        "      Q2 (list): List of transformed (to tensor) questions.\n",
        "      batch_size (int): Number of elements per batch.\n",
        "      pad (int, optional): Pad character from the vocab. Defaults to 1.\n",
        "      shuffle (bool, optional): If the batches should be randomnized or not. Defaults to True.\n",
        "  Yields:\n",
        "      tuple: Of the form (input1, input2) with types (numpy.ndarray, numpy.ndarray)\n",
        "      NOTE: input1: inputs to your model [q1a, q2a, q3a, ...] i.e. (q1a,q1b) are duplicates\n",
        "            input2: targets to your model [q1b, q2b,q3b, ...] i.e. (q1a,q2i) i!=a are not duplicates\n",
        "  \"\"\"\n",
        "\n",
        "  input1 = []\n",
        "  input2 = []\n",
        "  idx = 0\n",
        "  len_q = len(Q1)\n",
        "  question_indexes = [*range(len_q)]\n",
        "  \n",
        "  if shuffle:\n",
        "      rnd.shuffle(question_indexes)\n",
        "  \n",
        "  ### START CODE HERE (Replace instances of 'None' with your code) ###\n",
        "  while True:\n",
        "      if idx >= len_q:\n",
        "          # if idx is greater than or equal to len_q, set idx accordingly \n",
        "          # (Hint: look at the instructions above)\n",
        "          idx = len_q\n",
        "          # shuffle to get random batches if shuffle is set to True\n",
        "          if shuffle:\n",
        "              rnd.shuffle(question_indexes)\n",
        "      \n",
        "      # get questions at the `question_indexes[idx]` position in Q1 and Q2\n",
        "      q1 = Q1[question_indexes[idx]]\n",
        "      q2 = Q2[question_indexes[idx]]\n",
        "      \n",
        "      # increment idx by 1\n",
        "      idx += 1\n",
        "      # append q1\n",
        "      input1.append(q1)\n",
        "      # append q2\n",
        "      input2.append(q2)\n",
        "      if len(input1) == batch_size:\n",
        "          # determine max_len as the longest question in input1 & input 2\n",
        "          # Hint: use the `max` function. \n",
        "          # take max of input1 & input2 and then max out of the two of them.\n",
        "          max_len = max(max([len(q) for q in input1]),max([len(q) for q in input2]))\n",
        "          # pad to power-of-2 (Hint: look at the instructions above)\n",
        "          max_len = 2**int(np.ceil(np.log2(max_len)))\n",
        "          b1 = []\n",
        "          b2 = []\n",
        "          for q1, q2 in zip(input1, input2):\n",
        "              # add [pad] to q1 until it reaches max_len\n",
        "              q1 = q1 + [pad] * (max_len - len(q1))\n",
        "              # add [pad] to q2 until it reaches max_len\n",
        "              q2 = q2 + [pad] * (max_len - len(q2))\n",
        "              # append q1\n",
        "              b1.append(q1)\n",
        "              # append q2\n",
        "              b2.append(q2)\n",
        "          # use b1 and b2\n",
        "          yield np.array(b1), np.array(b2)\n",
        "  ### END CODE HERE ###\n",
        "          # reset the batches\n",
        "          input1, input2 = [], []  # reset the batches"
      ],
      "execution_count": null,
      "outputs": []
    },
    {
      "cell_type": "code",
      "metadata": {
        "colab": {
          "base_uri": "https://localhost:8080/"
        },
        "id": "dFzcUg6Fy3dC",
        "outputId": "b7f592c3-1b82-44c7-a618-91a12ec76e1c"
      },
      "source": [
        "batch_size = 2\n",
        "\n",
        "res1, res2 = next(data_generator(train_Q1, train_Q2, batch_size))\n",
        "print(\"First questions  : \",'\\n', res1, '\\n')\n",
        "print(\"Second questions : \",'\\n', res2)"
      ],
      "execution_count": null,
      "outputs": [
        {
          "output_type": "stream",
          "text": [
            "First questions  :  \n",
            " [[  30   87   78  134 2131 1980   28   78  594   21    1    1    1    1\n",
            "     1    1]\n",
            " [  30   55   78 3540 1460   28   56  253   21    1    1    1    1    1\n",
            "     1    1]] \n",
            "\n",
            "Second questions :  \n",
            " [[  30  156   78  134 2131 9516   21    1    1    1    1    1    1    1\n",
            "     1    1]\n",
            " [  30  156   78 3540 1460  131   56  253   21    1    1    1    1    1\n",
            "     1    1]]\n"
          ],
          "name": "stdout"
        }
      ]
    },
    {
      "cell_type": "markdown",
      "metadata": {
        "id": "MMrCA-MUzWp0"
      },
      "source": [
        "**Note**: The following expected output is valid only if you run the above test cell **_once_** (first time). The output will change on each execution.\n",
        "\n",
        "If you think your implementation is correct and it is not matching the output, make sure to restart the kernel and run all the cells from the top again. \n",
        "\n",
        "**Expected Output:**\n",
        "```CPP\n",
        "First questions  :  \n",
        " [[  30   87   78  134 2132 1981   28   78  594   21    1    1    1    1\n",
        "     1    1]\n",
        " [  30   55   78 3541 1460   28   56  253   21    1    1    1    1    1\n",
        "     1    1]] \n",
        "\n",
        "Second questions :  \n",
        " [[  30  156   78  134 2132 9508   21    1    1    1    1    1    1    1\n",
        "     1    1]\n",
        " [  30  156   78 3541 1460  131   56  253   21    1    1    1    1    1\n",
        "     1    1]]\n",
        "```\n",
        "Now that you have your generator, you can just call it and it will return tensors which correspond to your questions in the Quora data set.<br>Now you can go ahead and start building your neural network. \n",
        "\n"
      ]
    },
    {
      "cell_type": "markdown",
      "metadata": {
        "id": "QrU1RfvSzXJj"
      },
      "source": [
        "<a name='2'></a>\n",
        "# Part 2: Defining the Siamese model"
      ]
    },
    {
      "cell_type": "markdown",
      "metadata": {
        "id": "EbrV3ikQzcF1"
      },
      "source": [
        "<a name='2.1'></a>\n",
        "### 2.1 Understanding Siamese Network "
      ]
    },
    {
      "cell_type": "markdown",
      "metadata": {
        "id": "g-vqkBhWze5F"
      },
      "source": [
        "A Siamese network is a neural network which uses the same weights while working in tandem on two different input vectors to compute comparable output vectors.The Siamese network you are about to implement looks like this:\n",
        "\n",
        "<img src='https://github.com/rahiakela/img-repo/blob/master/deeplearning.ai-NLPS/siamese.png?raw=1' width='800'/>\n",
        "\n",
        "You get the question embedding, run it through an LSTM layer, normalize $v_1$ and $v_2$, and finally use a triplet loss (explained below) to get the corresponding cosine similarity for each pair of questions. As usual, you will start by importing the data set. The triplet loss makes use of a baseline (anchor) input that is compared to a positive (truthy) input and a negative (falsy) input. The distance from the baseline (anchor) input to the positive (truthy) input is minimized, and the distance from the baseline (anchor) input to the negative (falsy) input is maximized. In math equations, you are trying to maximize the following.\n",
        "\n",
        "$$\\mathcal{L}(A, P, N)=\\max \\left(\\|\\mathrm{f}(A)-\\mathrm{f}(P)\\|^{2}-\\|\\mathrm{f}(A)-\\mathrm{f}(N)\\|^{2}+\\alpha, 0\\right)$$\n",
        "\n",
        "$A$ is the anchor input, for example $q1_1$, $P$ the duplicate input, for example, $q2_1$, and $N$ the negative input (the non duplicate question), for example $q2_2$.<br>\n",
        "$\\alpha$ is a margin; you can think about it as a safety net, or by how much you want to push the duplicates from the non duplicates. \n",
        "<br>"
      ]
    },
    {
      "cell_type": "markdown",
      "metadata": {
        "id": "SCji0QqpzkVR"
      },
      "source": [
        "<a name='ex02'></a>\n",
        "#### Exercise 02"
      ]
    },
    {
      "cell_type": "markdown",
      "metadata": {
        "id": "9uFW-FJKzmb_"
      },
      "source": [
        "**Instructions:** Implement the `Siamese` function below. You should be using all the objects explained below. \n",
        "\n",
        "To implement this model, you will be using `trax`. Concretely, you will be using the following functions.\n",
        "\n",
        "\n",
        "- `tl.Serial`: Combinator that applies layers serially (by function composition) allows you set up the overall structure of the feedforward. [docs](https://trax-ml.readthedocs.io/en/latest/trax.layers.html#trax.layers.combinators.Serial) / [source code](https://github.com/google/trax/blob/1372b903bb66b0daccee19fd0b1fdf44f659330b/trax/layers/combinators.py#L26)\n",
        "    - You can pass in the layers as arguments to `Serial`, separated by commas. \n",
        "    - For example: `tl.Serial(tl.Embeddings(...), tl.Mean(...), tl.Dense(...), tl.LogSoftmax(...))` \n",
        "\n",
        "\n",
        "-  `tl.Embedding`: Maps discrete tokens to vectors. It will have shape (vocabulary length X dimension of output vectors). The dimension of output vectors (also called d_feature) is the number of elements in the word embedding. [docs](https://trax-ml.readthedocs.io/en/latest/trax.layers.html#trax.layers.core.Embedding) / [source code](https://github.com/google/trax/blob/1372b903bb66b0daccee19fd0b1fdf44f659330b/trax/layers/core.py#L113)\n",
        "    - `tl.Embedding(vocab_size, d_feature)`.\n",
        "    - `vocab_size` is the number of unique words in the given vocabulary.\n",
        "    - `d_feature` is the number of elements in the word embedding (some choices for a word embedding size range from 150 to 300, for example).\n",
        "\n",
        "\n",
        "-  `tl.LSTM` The LSTM layer. It leverages another Trax layer called [`LSTMCell`](https://trax-ml.readthedocs.io/en/latest/trax.layers.html#trax.layers.rnn.LSTMCell). The number of units should be specified and should match the number of elements in the word embedding. [docs](https://trax-ml.readthedocs.io/en/latest/trax.layers.html#trax.layers.rnn.LSTM) / [source code](https://github.com/google/trax/blob/1372b903bb66b0daccee19fd0b1fdf44f659330b/trax/layers/rnn.py#L87)\n",
        "    - `tl.LSTM(n_units)` Builds an LSTM layer of n_units.\n",
        "    \n",
        "    \n",
        "- `tl.Mean`: Computes the mean across a desired axis. Mean uses one tensor axis to form groups of values and replaces each group with the mean value of that group. [docs](https://trax-ml.readthedocs.io/en/latest/trax.layers.html#trax.layers.core.Mean) / [source code](https://github.com/google/trax/blob/1372b903bb66b0daccee19fd0b1fdf44f659330b/trax/layers/core.py#L276)\n",
        "    - `tl.Mean(axis=1)` mean over columns.\n",
        "\n",
        "\n",
        "- `tl.Fn` Layer with no weights that applies the function f, which should be specified using a lambda syntax. [docs](https://trax-ml.readthedocs.io/en/latest/trax.layers.html#trax.layers.base.Fn) / [source doce](https://github.com/google/trax/blob/70f5364dcaf6ec11aabbd918e5f5e4b0f5bfb995/trax/layers/base.py#L576)\n",
        "    - $x$ -> This is used for cosine similarity.\n",
        "    - `tl.Fn('Normalize', lambda x: normalize(x))` Returns a layer with no weights that applies the function `f`\n",
        "    \n",
        "    \n",
        "- `tl.parallel`: It is a combinator layer (like `Serial`) that applies a list of layers in parallel to its inputs. [docs](https://trax-ml.readthedocs.io/en/latest/trax.layers.html#trax.layers.combinators.Parallel) / [source code](https://github.com/google/trax/blob/37aba571a89a8ad86be76a569d0ec4a46bdd8642/trax/layers/combinators.py#L152)"
      ]
    },
    {
      "cell_type": "code",
      "metadata": {
        "id": "X5Te-cYkzRQu"
      },
      "source": [
        "# UNQ_C2 (UNIQUE CELL IDENTIFIER, DO NOT EDIT)\n",
        "# GRADED FUNCTION: Siamese\n",
        "def Siamese(vocab_size=len(vocab), d_model=128, mode='train'):\n",
        "  \"\"\"Returns a Siamese model.\n",
        "\n",
        "  Args:\n",
        "      vocab_size (int, optional): Length of the vocabulary. Defaults to len(vocab).\n",
        "      d_model (int, optional): Depth of the model. Defaults to 128.\n",
        "      mode (str, optional): 'train', 'eval' or 'predict', predict mode is for fast inference. Defaults to 'train'.\n",
        "\n",
        "  Returns:\n",
        "      trax.layers.combinators.Parallel: A Siamese model. \n",
        "  \"\"\"\n",
        "\n",
        "  def normalize(x):  # normalizes the vectors to have L2 norm 1\n",
        "      return x / fastnp.sqrt(fastnp.sum(x * x, axis=-1, keepdims=True))\n",
        "  \n",
        "  ### START CODE HERE (Replace instances of 'None' with your code) ###\n",
        "  q_processor = tl.Serial(  # Processor will run on Q1 and Q2.\n",
        "      tl.Embedding(vocab_size, d_model),          # Embedding layer\n",
        "      tl.LSTM(d_model),                           # LSTM layer\n",
        "      tl.Mean(axis=1),                            # Mean over columns\n",
        "      tl.Fn(\"Normalize\", lambda x: normalize(x))  # Apply normalize function\n",
        "  )  # Returns one vector of shape [batch_size, d_model].\n",
        "  \n",
        "  ### END CODE HERE ###\n",
        "  \n",
        "  # Run on Q1 and Q2 in parallel.\n",
        "  model = tl.Parallel(q_processor, q_processor)\n",
        "\n",
        "  return model"
      ],
      "execution_count": null,
      "outputs": []
    },
    {
      "cell_type": "markdown",
      "metadata": {
        "id": "n_kDYwJj2L4O"
      },
      "source": [
        "Setup the Siamese network model"
      ]
    },
    {
      "cell_type": "code",
      "metadata": {
        "id": "WUGfIyne2OkW",
        "colab": {
          "base_uri": "https://localhost:8080/"
        },
        "outputId": "b6e80b48-593e-4aad-d444-b28f6006a784"
      },
      "source": [
        "# check your model\n",
        "model = Siamese()\n",
        "print(model)"
      ],
      "execution_count": null,
      "outputs": [
        {
          "output_type": "stream",
          "text": [
            "Parallel_in2_out2[\n",
            "  Serial[\n",
            "    Embedding_41790_128\n",
            "    LSTM_128\n",
            "    Mean\n",
            "    Normalize\n",
            "  ]\n",
            "  Serial[\n",
            "    Embedding_41790_128\n",
            "    LSTM_128\n",
            "    Mean\n",
            "    Normalize\n",
            "  ]\n",
            "]\n"
          ],
          "name": "stdout"
        }
      ]
    },
    {
      "cell_type": "markdown",
      "metadata": {
        "id": "METM_Xwa2Z0R"
      },
      "source": [
        "**Expected output:**  \n",
        "\n",
        "```CPP\n",
        "Parallel_in2_out2[\n",
        "  Serial[\n",
        "    Embedding_41699_128\n",
        "    LSTM_128\n",
        "    Mean\n",
        "    Normalize\n",
        "  ]\n",
        "  Serial[\n",
        "    Embedding_41699_128\n",
        "    LSTM_128\n",
        "    Mean\n",
        "    Normalize\n",
        "  ]\n",
        "]\n",
        "```"
      ]
    },
    {
      "cell_type": "markdown",
      "metadata": {
        "id": "5QbegRaj2aSg"
      },
      "source": [
        "<a name='2.2'></a>\n",
        "\n",
        "### 2.2 Hard  Negative Mining"
      ]
    },
    {
      "cell_type": "markdown",
      "metadata": {
        "id": "JKzkO5GV2dnq"
      },
      "source": [
        "You will now implement the `TripletLoss` function.<br>\n",
        "As explained in the lecture, loss is composed of two terms. One term utilizes the mean of all the non duplicates, the second utilizes the *closest negative*. Our loss expression is then:\n",
        " \n",
        "\\begin{align}\n",
        " \\mathcal{Loss_1(A,P,N)} &=\\max \\left( -cos(A,P)  + mean_{neg} +\\alpha, 0\\right) \\\\\n",
        " \\mathcal{Loss_2(A,P,N)} &=\\max \\left( -cos(A,P)  + closest_{neg} +\\alpha, 0\\right) \\\\\n",
        "\\mathcal{Loss(A,P,N)} &= mean(Loss_1 + Loss_2) \\\\\n",
        "\\end{align}\n",
        "\n",
        "\n",
        "Further, two sets of instructions are provided. The first set provides a brief description of the task. If that set proves insufficient, a more detailed set can be displayed.  "
      ]
    },
    {
      "cell_type": "markdown",
      "metadata": {
        "id": "-3qByOge2jg6"
      },
      "source": [
        "<a name='ex03'></a>\n",
        "#### Exercise 03"
      ]
    },
    {
      "cell_type": "markdown",
      "metadata": {
        "id": "4rWUQblb2mZv"
      },
      "source": [
        "**Instructions (Brief):** Here is a list of things you should do: <br>\n",
        "\n",
        "- As this will be run inside trax, use `fastnp.xyz` when using any `xyz` numpy function\n",
        "- Use `fastnp.dot` to calculate the similarity matrix $v_1v_2^T$ of dimension `batch_size` x `batch_size`\n",
        "- Take the score of the duplicates on the diagonal `fastnp.diagonal`\n",
        "- Use the `trax` functions `fastnp.eye` and `fastnp.maximum` for the identity matrix and the maximum."
      ]
    },
    {
      "cell_type": "markdown",
      "metadata": {
        "id": "orC-CdFO2qnp"
      },
      "source": [
        "<details>    \n",
        "<summary>\n",
        "    <font size=\"3\" color=\"darkgreen\"><b>More Detailed Instructions </b></font>\n",
        "</summary>\n",
        "We'll describe the algorithm using a detailed example. Below, V1, V2 are the output of the normalization blocks in our model. Here we will use a batch_size of 4 and a d_model of 3. As explained in lecture, the inputs, Q1, Q2 are arranged so that corresponding inputs are duplicates while non-corresponding entries are not. The outputs will have the same pattern.\n",
        "\n",
        "<img src='https://github.com/rahiakela/img-repo/blob/master/deeplearning.ai-NLPS/C3_W4_triploss1.png?raw=1' style=\"width:1021px;height:229px;\"/>\n",
        "\n",
        "This testcase arranges the outputs, v1,v2, to highlight different scenarios. Here, the first two outputs V1[0], V2[0] match exactly - so the model is generating the same vector for Q1[0] and Q2[0] inputs. The second outputs differ, circled in orange, we set, V2[1] is set to match V2[**2**], simulating a model which is generating very poor results. V1[3] and V2[3] match exactly again while V1[4] and V2[4] are set to be exactly wrong - 180 degrees from each other, circled in blue. \n",
        "\n",
        "The first step is to compute the cosine similarity matrix or `score` in the code. As explained in lecture, this is $$V_1 V_2^T$$ This is generated with `fastnp.dot`.\n",
        "\n",
        "<img src='https://github.com/rahiakela/img-repo/blob/master/deeplearning.ai-NLPS/C3_W4_triploss2.png?raw=1' style=\"width:959px;height:236px;\"/>\n",
        "\n",
        "The clever arrangement of inputs creates the data needed for positive *and* negative examples without having to run all pair-wise combinations. Because Q1[n] is a duplicate of only Q2[n], other combinations are explicitly created negative examples or *Hard Negative* examples. The matrix multiplication efficiently produces the cosine similarity of all positive/negative combinations as shown above on the left side of the diagram. \n",
        "\n",
        "'Positive' are the results of duplicate examples and 'negative' are the results of explicitly created negative examples. The results for our test case are as expected, V1[0]V2[0] match producing '1' while our other 'positive' cases (in green) don't match well, as was arranged. The V2[2] was set to match V1[3] producing a poor match at `score[2,2]` and an undesired 'negative' case of a '1' shown in grey. \n",
        "\n",
        "With the similarity matrix (`score`) we can begin to implement the loss equations. First, we can extract $$cos(A,P)$$ by utilizing `fastnp.diagonal`. The goal is to grab all the green entries in the diagram above. This is `positive` in the code.\n",
        "\n",
        "Next, we will create the *closest_negative*. This is the nonduplicate entry in V2 that is closest (has largest cosine similarity) to an entry in V1. Each row, n, of `score` represents all comparisons of the results of Q1[n] vs Q2[x] within a batch. A specific example in our testcase is row `score[2,:]`. It has the cosine similarity of V1[2] and V2[x]. The *closest_negative*, as was arranged, is V2[2] which has a score of 1. This is the maximum value of the 'negative' entries (blue entries in the diagram).\n",
        "\n",
        "To implement this, we need to pick the maximum entry on a row of `score`, ignoring the 'positive'/green entries. To avoid selecting the 'positive'/green entries, we can make them larger negative numbers. Multiply `fastnp.eye(batch_size)` with 2.0 and subtract it out of `scores`. The result is `negative_without_positive`. Now we can use `fastnp.max`, row by row (axis=1), to select the maximum which is `closest_negative`.\n",
        "\n",
        "Next, we'll create *mean_negative*. As the name suggests, this is the mean of all the 'negative'/blue values in `score` on a row by row basis. We can use `fastnp.eye(batch_size)` and a constant, this time to create a mask with zeros on the diagonal. Element-wise multiply this with `score` to get just the 'negative values. This is `negative_zero_on_duplicate` in the code. Compute the mean by using `fastnp.sum` on `negative_zero_on_duplicate` for `axis=1` and divide it by `(batch_size - 1)` . This is `mean_negative`.\n",
        "\n",
        "Now, we can compute loss using the two equations above and `fastnp.maximum`. This will form `triplet_loss1` and `triplet_loss2`. \n",
        "\n",
        "`triple_loss` is the `fastnp.mean` of the sum of the two individual losses.\n",
        "\n",
        "Once you have this code matching the expected results, you can clip out the section between ### START CODE HERE and ### END CODE HERE it out and insert it into TripletLoss below.\n",
        "\n",
        " \n",
        "<\\details>  "
      ]
    },
    {
      "cell_type": "code",
      "metadata": {
        "id": "6PLfPoNF2T2D"
      },
      "source": [
        "# UNQ_C3 (UNIQUE CELL IDENTIFIER, DO NOT EDIT)\n",
        "# GRADED FUNCTION: TripletLossFn\n",
        "def TripletLossFn(v1, v2, margin=0.25):\n",
        "  \"\"\"Custom Loss function.\n",
        "\n",
        "  Args:\n",
        "      v1 (numpy.ndarray): Array with dimension (batch_size, model_dimension) associated to Q1.\n",
        "      v2 (numpy.ndarray): Array with dimension (batch_size, model_dimension) associated to Q2.\n",
        "      margin (float, optional): Desired margin. Defaults to 0.25.\n",
        "\n",
        "  Returns:\n",
        "      jax.interpreters.xla.DeviceArray: Triplet Loss.\n",
        "  \"\"\"\n",
        "  ### START CODE HERE (Replace instances of 'None' with your code) ###\n",
        "  \n",
        "  # use fastnp to take the dot product of the two batches (don't forget to transpose the second argument)\n",
        "  scores = fastnp.dot(v1, v2.T) # pairwise cosine sim\n",
        "  #print('scores', scores)\n",
        "  # calculate new batch size\n",
        "  batch_size = len(scores) \n",
        "  #print('batch_size', batch_size)\n",
        "  # use fastnp to grab all postive `diagonal` entries in `scores`\n",
        "  positive = fastnp.diagonal(scores)  # the positive ones (duplicates)\n",
        "  # multiply `fastnp.eye(batch_size)` with 2.0 and subtract it out of `scores`\n",
        "  negative_without_positive = scores - fastnp.eye(batch_size) * 2.\n",
        "  # take the row by row `max` of `negative_without_positive`. \n",
        "  # Hint: negative_without_positive.max(axis = None\n",
        "  closest_negative = negative_without_positive.max(axis=1)\n",
        "  #print('closest_negative', closest_negative)\n",
        "  # subtract `fastnp.eye(batch_size)` out of 1.0 and do element-wise multiplication with `scores`\n",
        "  negative_zero_on_duplicate = scores *  (1. - fastnp.eye(batch_size))\n",
        "  # use `fastnp.sum` on `negative_zero_on_duplicate` for `axis= None\n",
        "  mean_negative = fastnp.sum(negative_zero_on_duplicate, axis=1) / (batch_size - 1)\n",
        "  # compute `fastnp.maximum` among 0.0 and `A`\n",
        "  # A = None\n",
        "  triplet_loss1 = fastnp.maximum(0.0, margin - positive + closest_negative)\n",
        "  # compute `fastnp.maximum` among 0.0 and `B`\n",
        "  # B = None\n",
        "  triplet_loss2 = fastnp.maximum(0.0, margin - positive + mean_negative)\n",
        "  # add the two losses together and take the `fastnp.mean` of it\n",
        "  triplet_loss = fastnp.mean(triplet_loss1 + triplet_loss2)\n",
        "  \n",
        "  ### END CODE HERE ###\n",
        "  \n",
        "  return triplet_loss"
      ],
      "execution_count": null,
      "outputs": []
    },
    {
      "cell_type": "code",
      "metadata": {
        "id": "dIX-XYZm3kaH",
        "outputId": "5e171d62-5ec8-4f0b-bd1a-d498b49b6ceb",
        "colab": {
          "base_uri": "https://localhost:8080/"
        }
      },
      "source": [
        "v1 = np.array([[0.26726124, 0.53452248, 0.80178373],[0.5178918 , 0.57543534, 0.63297887]])\n",
        "v2 = np.array([[ 0.26726124,  0.53452248,  0.80178373],[-0.5178918 , -0.57543534, -0.63297887]])\n",
        "TripletLossFn(v2,v1)\n",
        "print(\"Triplet Loss:\", TripletLossFn(v2,v1))"
      ],
      "execution_count": null,
      "outputs": [
        {
          "output_type": "stream",
          "text": [
            "Triplet Loss: 0.5\n"
          ],
          "name": "stdout"
        }
      ]
    },
    {
      "cell_type": "markdown",
      "metadata": {
        "id": "_EJy9zPx3oj1"
      },
      "source": [
        "**Expected Output:**\n",
        "```CPP\n",
        "Triplet Loss: 0.5\n",
        "``` "
      ]
    },
    {
      "cell_type": "markdown",
      "metadata": {
        "id": "vM7JVYpG3rpj"
      },
      "source": [
        "To make a layer out of a function with no trainable variables, use `tl.Fn`."
      ]
    },
    {
      "cell_type": "code",
      "metadata": {
        "id": "A21ud9c_3sE_"
      },
      "source": [
        "from functools import partial\n",
        "def TripletLoss(margin=0.25):\n",
        "    triplet_loss_fn = partial(TripletLossFn, margin=margin)\n",
        "    return tl.Fn('TripletLoss', triplet_loss_fn)"
      ],
      "execution_count": null,
      "outputs": []
    },
    {
      "cell_type": "markdown",
      "metadata": {
        "id": "1HTljPia3uU6"
      },
      "source": [
        "<a name='3'></a>\n",
        "\n",
        "# Part 3: Training"
      ]
    },
    {
      "cell_type": "markdown",
      "metadata": {
        "id": "wja5k9vT3xkV"
      },
      "source": [
        "Now you are going to train your model. As usual, you have to define the cost function and the optimizer. You also have to feed in the built model. Before, going into the training, we will use a special data set up. We will define the inputs using the data generator we built above. The lambda function acts as a seed to remember the last batch that was given. Run the cell below to get the question pairs inputs. "
      ]
    },
    {
      "cell_type": "code",
      "metadata": {
        "id": "5Cq8uKl931y9",
        "outputId": "5ec0a98b-8453-47f1-a116-5cf92a1239d1",
        "colab": {
          "base_uri": "https://localhost:8080/"
        }
      },
      "source": [
        "batch_size = 256\n",
        "train_generator = data_generator(train_Q1, train_Q2, batch_size, vocab[\"<PAD>\"])\n",
        "val_generator = data_generator(val_Q1, val_Q2, batch_size, vocab[\"<PAD>\"])\n",
        "\n",
        "print(\"train_Q1.shape: \", train_Q1.shape)\n",
        "print(\"val_Q1.shape  : \", val_Q1.shape)"
      ],
      "execution_count": null,
      "outputs": [
        {
          "output_type": "stream",
          "text": [
            "train_Q1.shape:  (89188,)\n",
            "val_Q1.shape  :  (22298,)\n"
          ],
          "name": "stdout"
        }
      ]
    },
    {
      "cell_type": "markdown",
      "metadata": {
        "id": "B0jVkjtkQwWS"
      },
      "source": [
        "<a name='3.1'></a>\n",
        "\n",
        "### 3.1 Training the model"
      ]
    },
    {
      "cell_type": "markdown",
      "metadata": {
        "id": "gRIhF3kOQwwK"
      },
      "source": [
        "You will now write a function that takes in your model and trains it. To train your model you have to decide how many times you want to iterate over the entire data set; each iteration is defined as an `epoch`. For each epoch, you have to go over all the data, using your training iterator."
      ]
    },
    {
      "cell_type": "markdown",
      "metadata": {
        "id": "tyerkMF4Qy7I"
      },
      "source": [
        "<a name='ex04'></a>\n",
        "#### Exercise 04"
      ]
    },
    {
      "cell_type": "markdown",
      "metadata": {
        "id": "-Rw81bxtQ1o-"
      },
      "source": [
        "**Instructions:** Implement the `train_model` below to train the neural network above. Here is a list of things you should do, as already shown in lecture 7: \n",
        "\n",
        "- Create `TrainTask` and `EvalTask`\n",
        "- Create the training loop `trax.supervised.training.Loop`\n",
        "- Pass in the following depending on the context (train_task or eval_task):\n",
        "    - `labeled_data=generator`\n",
        "    - `metrics=[TripletLoss()]`,\n",
        "    - `loss_layer=TripletLoss()`\n",
        "    - `optimizer=trax.optimizers.Adam` with learning rate of 0.01\n",
        "    - `lr_schedule=trax.lr.warmup_and_rsqrt_decay(400, 0.01)`,\n",
        "    - `output_dir=output_dir`\n",
        "\n",
        "\n",
        "You will be using your triplet loss function with Adam optimizer. Please read the [trax](https://trax-ml.readthedocs.io/en/latest/trax.optimizers.html?highlight=adam#trax.optimizers.adam.Adam) documentation to get a full understanding. \n",
        "\n",
        "This function should return a `training.Loop` object. To read more about this check the [docs](https://trax-ml.readthedocs.io/en/latest/trax.supervised.html?highlight=loop#trax.supervised.training.Loop)."
      ]
    },
    {
      "cell_type": "code",
      "metadata": {
        "id": "4wh43aAsQsox"
      },
      "source": [
        "lr_schedule = trax.lr.warmup_and_rsqrt_decay(400, 0.01)\n",
        "\n",
        "# UNQ_C4 (UNIQUE CELL IDENTIFIER, DO NOT EDIT)\n",
        "# GRADED FUNCTION: train_model\n",
        "def train_model(Siamese, TripletLoss, train_generator=train_generator, val_generator=val_generator, output_dir='model/'):\n",
        "    \"\"\"Training the Siamese Model\n",
        "\n",
        "    Args:\n",
        "        Siamese (function): Function that returns the Siamese model.\n",
        "        TripletLoss (function): Function that defines the TripletLoss loss function.\n",
        "        lr_schedule (function): Trax multifactor schedule function.\n",
        "        train_generator (generator, optional): Training generator. Defaults to train_generator.\n",
        "        val_generator (generator, optional): Validation generator. Defaults to val_generator.\n",
        "        output_dir (str, optional): Path to save model to. Defaults to 'model/'.\n",
        "\n",
        "    Returns:\n",
        "        trax.supervised.training.Loop: Training loop for the model.\n",
        "    \"\"\"\n",
        "    output_dir = os.path.expanduser(output_dir)\n",
        "\n",
        "    ### START CODE HERE (Replace instances of 'None' with your code) ###\n",
        "\n",
        "    train_task = training.TrainTask(\n",
        "        labeled_data=train_generator,       # Use generator (train)\n",
        "        loss_layer=TripletLoss(),           # Use triplet loss. Don't forget to instantiate this object\n",
        "        optimizer=trax.optimizers.Adam(learning_rate=0.01),          # Don't forget to add the learning rate parameter\n",
        "        lr_schedule=trax.lr.warmup_and_rsqrt_decay(400, 0.01),            # Use Trax multifactor schedule function\n",
        "    )\n",
        "\n",
        "    eval_task = training.EvalTask(\n",
        "        labeled_data=val_generator,       # Use generator (val)\n",
        "        metrics=[TripletLoss()],          # Use triplet loss. Don't forget to instantiate this object\n",
        "    )\n",
        "    \n",
        "    ### END CODE HERE ###\n",
        "\n",
        "    training_loop = training.Loop(Siamese(),\n",
        "                                  train_task,\n",
        "                                  eval_tasks=eval_task,\n",
        "                                  output_dir=output_dir)\n",
        "\n",
        "    return training_loop"
      ],
      "execution_count": null,
      "outputs": []
    },
    {
      "cell_type": "code",
      "metadata": {
        "id": "AsBphLUNSLqK"
      },
      "source": [
        "train_steps = 5\n",
        "training_loop = train_model(Siamese, TripletLoss, train_generator, val_generator)\n",
        "training_loop.run(train_steps)"
      ],
      "execution_count": null,
      "outputs": []
    },
    {
      "cell_type": "markdown",
      "metadata": {
        "id": "BtVhaQqESZvA"
      },
      "source": [
        "The model was only trained for 5 steps due to the constraints of this environment. For the rest of the assignment you will be using a pretrained model but now you should understand how the training can be done using Trax."
      ]
    },
    {
      "cell_type": "markdown",
      "metadata": {
        "id": "o312p-xRTCfv"
      },
      "source": [
        "<a name='4'></a>\n",
        "\n",
        "# Part 4:  Evaluation  "
      ]
    },
    {
      "cell_type": "markdown",
      "metadata": {
        "id": "PKPzCrSdTDCt"
      },
      "source": [
        "<a name='4.1'></a>\n",
        "\n",
        "### 4.1 Evaluating your siamese network"
      ]
    },
    {
      "cell_type": "markdown",
      "metadata": {
        "id": "vISP9tfnTFUV"
      },
      "source": [
        "In this section you will learn how to evaluate a Siamese network. You will first start by loading a pretrained model and then you will use it to predict. "
      ]
    },
    {
      "cell_type": "code",
      "metadata": {
        "id": "CsxwPYFFTHj4"
      },
      "source": [
        "# Loading in the saved model\n",
        "model = Siamese()\n",
        "model.init_from_file(\"model.pkl.gz\")"
      ],
      "execution_count": null,
      "outputs": []
    },
    {
      "cell_type": "markdown",
      "metadata": {
        "id": "RYvsVE6rTX82"
      },
      "source": [
        "<a name='4.2'></a>\n",
        "### 4.2 Classify"
      ]
    },
    {
      "cell_type": "markdown",
      "metadata": {
        "id": "Lx4iDr3VTYYd"
      },
      "source": [
        "To determine the accuracy of the model, we will utilize the test set that was configured earlier. While in training we used only positive examples, the test data, Q1_test, Q2_test and y_test, is setup as pairs of questions, some of which are duplicates some are not. \n",
        "This routine will run all the test question pairs through the model, compute the cosine simlarity of each pair, threshold it and compare the result to  y_test - the correct response from the data set. The results are accumulated to produce an accuracy."
      ]
    },
    {
      "cell_type": "markdown",
      "metadata": {
        "id": "x2B4VLAWThS8"
      },
      "source": [
        "<a name='ex05'></a>\n",
        "#### Exercise 05"
      ]
    },
    {
      "cell_type": "markdown",
      "metadata": {
        "id": "fk94f3vKTjvO"
      },
      "source": [
        "**Instructions**  \n",
        " - Loop through the incoming data in batch_size chunks\n",
        " - Use the data generator to load q1, q2 a batch at a time. **Don't forget to set shuffle=False!**\n",
        " - copy a batch_size chunk of y into y_test\n",
        " - compute v1, v2 using the model\n",
        " - for each element of the batch\n",
        "        - compute the cos similarity of each pair of entries, v1[j],v2[j]\n",
        "        - determine if d > threshold\n",
        "        - increment accuracy if that result matches the expected results (y_test[j])\n",
        " - compute the final accuracy and return\n",
        " \n",
        "Due to some limitations of this environment, running classify multiple times may result in the kernel failing. If that happens *Restart Kernal & clear output* and then run from the top. During development, consider using a smaller set of data to reduce the number of calls to model(). "
      ]
    },
    {
      "cell_type": "code",
      "metadata": {
        "id": "8fYXMgX8TmYV"
      },
      "source": [
        "# UNQ_C5 (UNIQUE CELL IDENTIFIER, DO NOT EDIT)\n",
        "# GRADED FUNCTION: classify\n",
        "def classify(test_Q1, test_Q2, y, threshold, model, vocab, data_generator=data_generator, batch_size=64):\n",
        "    \"\"\"Function to test the accuracy of the model.\n",
        "\n",
        "    Args:\n",
        "        test_Q1 (numpy.ndarray): Array of Q1 questions.\n",
        "        test_Q2 (numpy.ndarray): Array of Q2 questions.\n",
        "        y (numpy.ndarray): Array of actual target.\n",
        "        threshold (float): Desired threshold.\n",
        "        model (trax.layers.combinators.Parallel): The Siamese model.\n",
        "        vocab (collections.defaultdict): The vocabulary used.\n",
        "        data_generator (function): Data generator function. Defaults to data_generator.\n",
        "        batch_size (int, optional): Size of the batches. Defaults to 64.\n",
        "\n",
        "    Returns:\n",
        "        float: Accuracy of the model.\n",
        "    \"\"\"\n",
        "    accuracy = 0\n",
        "    ### START CODE HERE (Replace instances of 'None' with your code) ###\n",
        "    for i in range(0, len(test_Q1), batch_size):\n",
        "        # Call the data generator (built in Ex 01) with shuffle=False using next()\n",
        "        # use batch size chuncks of questions as Q1 & Q2 arguments of the data generator. e.g x[i:i + batch_size]\n",
        "        # Hint: use `vocab['<PAD>']` for the `pad` argument of the data generator\n",
        "        q1, q2 = next(data_generator(test_Q1[i:i + batch_size], test_Q2[i:i + batch_size], batch_size, vocab[\"<PAD>\"], shuffle=False))\n",
        "        # use batch size chuncks of actual output targets (same syntax as example above)\n",
        "        y_test = y[i: i + batch_size]\n",
        "        # Call the model\n",
        "        v1, v2 = model((q1, q2))\n",
        "\n",
        "        for j in range(batch_size):\n",
        "            # take dot product to compute cos similarity of each pair of entries, v1[j], v2[j]\n",
        "            # don't forget to transpose the second argument\n",
        "            d = fastnp.dot(v1[j], v2[j].T)\n",
        "            # is d greater than the threshold?\n",
        "            res = d > threshold\n",
        "            # increment accurancy if y_test is equal `res`\n",
        "            accuracy += (y_test[j] == res)\n",
        "    # compute accuracy using accuracy and total length of test questions\n",
        "    accuracy = accuracy / len(test_Q1)\n",
        "    ### END CODE HERE ###\n",
        "    \n",
        "    return accuracy"
      ],
      "execution_count": null,
      "outputs": []
    },
    {
      "cell_type": "code",
      "metadata": {
        "id": "pjbQIZCxUJFA",
        "outputId": "e7ad3a31-4b2e-40b9-c54d-3b6c4ef5afa1",
        "colab": {
          "base_uri": "https://localhost:8080/"
        }
      },
      "source": [
        "# this takes around 1 minute\n",
        "accuracy = classify(Q1_test, Q2_test, y_test, 0.7, model, vocab, batch_size=512)\n",
        "print(\"Accuracy: \", accuracy)"
      ],
      "execution_count": null,
      "outputs": [
        {
          "output_type": "stream",
          "text": [
            "Accuracy:  0.71708983\n"
          ],
          "name": "stdout"
        }
      ]
    },
    {
      "cell_type": "markdown",
      "metadata": {
        "id": "RAUxM2ajYT0B"
      },
      "source": [
        "**Expected Result**  \n",
        "Accuracy ~0.69"
      ]
    },
    {
      "cell_type": "markdown",
      "metadata": {
        "id": "srKpG451YUUs"
      },
      "source": [
        "<a name='5'></a>\n",
        "\n",
        "# Part 5: Testing with your own questions"
      ]
    },
    {
      "cell_type": "markdown",
      "metadata": {
        "id": "aZbKdUvzYXHG"
      },
      "source": [
        "In this section you will test the model with your own questions. You will write a function `predict` which takes two questions as input and returns $1$ or $0$ depending on whether the question pair is a duplicate or not.   \n",
        "\n",
        "But first, we build a reverse vocabulary that allows to map encoded questions back to words: \n",
        "\n",
        "Write a function `predict`that takes in two questions, the model, and the vocabulary and returns whether the questions are duplicates ($1$) or not duplicates ($0$) given a similarity threshold. "
      ]
    },
    {
      "cell_type": "markdown",
      "metadata": {
        "id": "O5PdgzOrYeK7"
      },
      "source": [
        "<a name='ex06'></a>\n",
        "### Exercise 06"
      ]
    },
    {
      "cell_type": "markdown",
      "metadata": {
        "id": "UesT5aD2Yg1V"
      },
      "source": [
        "**Instructions:** \n",
        "- Tokenize your question using `nltk.word_tokenize` \n",
        "- Create Q1,Q2 by encoding your questions as a list of numbers using vocab\n",
        "- pad Q1,Q2 with next(data_generator([Q1], [Q2],1,vocab['<PAD>']))\n",
        "- use model() to create v1, v2\n",
        "- compute the cosine similarity (dot product) of v1, v2\n",
        "- compute res by comparing d to the threshold"
      ]
    },
    {
      "cell_type": "code",
      "metadata": {
        "id": "LfHBgh2vYQwT"
      },
      "source": [
        "# UNQ_C6 (UNIQUE CELL IDENTIFIER, DO NOT EDIT)\n",
        "# GRADED FUNCTION: predict\n",
        "def predict(question1, question2, threshold, model, vocab, data_generator=data_generator, verbose=False):\n",
        "    \"\"\"Function for predicting if two questions are duplicates.\n",
        "\n",
        "    Args:\n",
        "        question1 (str): First question.\n",
        "        question2 (str): Second question.\n",
        "        threshold (float): Desired threshold.\n",
        "        model (trax.layers.combinators.Parallel): The Siamese model.\n",
        "        vocab (collections.defaultdict): The vocabulary used.\n",
        "        data_generator (function): Data generator function. Defaults to data_generator.\n",
        "        verbose (bool, optional): If the results should be printed out. Defaults to False.\n",
        "\n",
        "    Returns:\n",
        "        bool: True if the questions are duplicates, False otherwise.\n",
        "    \"\"\"\n",
        "    ### START CODE HERE (Replace instances of 'None' with your code) ###\n",
        "    # use `nltk` word tokenize function to tokenize\n",
        "    q1 = nltk.word_tokenize(question1)  # tokenize\n",
        "    q2 = nltk.word_tokenize(question2)  # tokenize\n",
        "    Q1, Q2 = [], []\n",
        "    for word in q1:  # encode q1\n",
        "        # increment by checking the 'word' index in `vocab`\n",
        "        Q1 += [vocab[word]]\n",
        "    for word in q2:  # encode q2\n",
        "        # increment by checking the 'word' index in `vocab`\n",
        "        Q2 += [vocab[word]]\n",
        "        \n",
        "    # Call the data generator (built in Ex 01) using next()\n",
        "    # pass [Q1] & [Q2] as Q1 & Q2 arguments of the data generator. Set batch size as 1\n",
        "    # Hint: use `vocab['<PAD>']` for the `pad` argument of the data generator\n",
        "    Q1, Q2 = next(data_generator([Q1], [Q2], 1, vocab[\"<PAD>\"]))\n",
        "    # Call the model\n",
        "    v1, v2 = model((Q1, Q2))\n",
        "    # take dot product to compute cos similarity of each pair of entries, v1, v2\n",
        "    # don't forget to transpose the second argument\n",
        "    d = fastnp.dot(v1[0], v2[0].T)\n",
        "    # is d greater than the threshold?\n",
        "    res = d > threshold\n",
        "    \n",
        "    ### END CODE HERE ###\n",
        "    \n",
        "    if(verbose):\n",
        "        print(\"Q1  = \", Q1, \"\\nQ2  = \", Q2)\n",
        "        print(\"d   = \", d)\n",
        "        print(\"res = \", res)\n",
        "\n",
        "    return res"
      ],
      "execution_count": null,
      "outputs": []
    },
    {
      "cell_type": "code",
      "metadata": {
        "id": "LMzRcu9LbZ91",
        "outputId": "e07edd90-7c04-41d0-b2d0-45f2e9f7c37a",
        "colab": {
          "base_uri": "https://localhost:8080/"
        }
      },
      "source": [
        "# Feel free to try with your own questions\n",
        "question1 = \"When will I see you?\"\n",
        "question2 = \"When can I see you again?\"\n",
        "\n",
        "# 1 means it is duplicated, 0 otherwise\n",
        "predict(question1, question2, 0.7, model, vocab=vocab, verbose=True)"
      ],
      "execution_count": null,
      "outputs": [
        {
          "output_type": "stream",
          "text": [
            "Q1  =  [[585  76   4  46  53  21   1   1]] \n",
            "Q2  =  [[ 585   33    4   46   53 7287   21    1]]\n",
            "d   =  0.8621342\n",
            "res =  True\n"
          ],
          "name": "stdout"
        },
        {
          "output_type": "execute_result",
          "data": {
            "text/plain": [
              "DeviceArray(True, dtype=bool)"
            ]
          },
          "metadata": {
            "tags": []
          },
          "execution_count": 49
        }
      ]
    },
    {
      "cell_type": "markdown",
      "metadata": {
        "id": "vvb4uC9rcP7K"
      },
      "source": [
        "**Expected Output**\n",
        "\n",
        "If input is:\n",
        "```CPP\n",
        "question1 = \"When will I see you?\"\n",
        "question2 = \"When can I see you again?\"\n",
        "```\n",
        "\n",
        "Output is (d may vary a bit):\n",
        "```CPP\n",
        "Q1  =  [[585  76   4  46  53  21   1   1]] \n",
        "Q2  =  [[ 585   33    4   46   53 7280   21    1]]\n",
        "d   =  0.88113236\n",
        "res =  True\n",
        "True\n",
        "```"
      ]
    },
    {
      "cell_type": "code",
      "metadata": {
        "id": "vkMu3nHWboYl",
        "outputId": "87e3debb-6ea8-48fc-cef3-4359f34eb3cb",
        "colab": {
          "base_uri": "https://localhost:8080/"
        }
      },
      "source": [
        "# Feel free to try with your own questions\n",
        "question1 = \"Do they enjoy eating the dessert?\"\n",
        "question2 = \"Do they like hiking in the desert?\"\n",
        "# 1 means it is duplicated, 0 otherwise\n",
        "predict(question1 , question2, 0.7, model, vocab, verbose=True)"
      ],
      "execution_count": null,
      "outputs": [
        {
          "output_type": "stream",
          "text": [
            "Q1  =  [[  443  1145  3158  1169    78 29071    21     1]] \n",
            "Q2  =  [[  443  1145    60 15323    28    78  7438    21]]\n",
            "d   =  0.56780773\n",
            "res =  False\n"
          ],
          "name": "stdout"
        },
        {
          "output_type": "execute_result",
          "data": {
            "text/plain": [
              "DeviceArray(False, dtype=bool)"
            ]
          },
          "metadata": {
            "tags": []
          },
          "execution_count": 50
        }
      ]
    },
    {
      "cell_type": "markdown",
      "metadata": {
        "id": "GHVIGOfBcgWP"
      },
      "source": [
        "**Expected output**\n",
        "\n",
        "If input is:\n",
        "```CPP\n",
        "question1 = \"Do they enjoy eating the dessert?\"\n",
        "question2 = \"Do they like hiking in the desert?\"\n",
        "```\n",
        "\n",
        "Output  (d may vary a bit):\n",
        "\n",
        "```CPP\n",
        "Q1  =  [[  443  1145  3159  1169    78 29017    21     1]] \n",
        "Q2  =  [[  443  1145    60 15302    28    78  7431    21]]\n",
        "d   =  0.477536\n",
        "res =  False\n",
        "False\n",
        "```"
      ]
    },
    {
      "cell_type": "markdown",
      "metadata": {
        "id": "dA92aX94ctPY"
      },
      "source": [
        "You can see that the Siamese network is capable of catching complicated structures. Concretely it can identify question duplicates although the questions do not have many words in common. \n",
        " "
      ]
    },
    {
      "cell_type": "markdown",
      "metadata": {
        "id": "GWNXiuEwctxN"
      },
      "source": [
        "<a name='6'></a>\n",
        "\n",
        "#  <span style=\"color:blue\"> On Siamese networks </span>"
      ]
    },
    {
      "cell_type": "markdown",
      "metadata": {
        "id": "IGOXEkvLcxGm"
      },
      "source": [
        "Siamese networks are important and useful. Many times there are several questions that are already asked in quora, or other platforms and you can use Siamese networks to avoid question duplicates. \n",
        "\n",
        "Congratulations, you have now built a powerful system that can recognize question duplicates. In the next course we will use transformers for machine translation, summarization, question answering, and chatbots. \n"
      ]
    }
  ]
}