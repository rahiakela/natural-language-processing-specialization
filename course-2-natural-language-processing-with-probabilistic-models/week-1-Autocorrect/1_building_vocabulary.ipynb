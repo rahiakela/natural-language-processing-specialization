{
  "nbformat": 4,
  "nbformat_minor": 0,
  "metadata": {
    "colab": {
      "name": "1-building-vocabulary.ipynb",
      "provenance": [],
      "toc_visible": true,
      "authorship_tag": "ABX9TyPdB5yLjU5C9fpJ9pslmB9/",
      "include_colab_link": true
    },
    "kernelspec": {
      "name": "python3",
      "display_name": "Python 3"
    }
  },
  "cells": [
    {
      "cell_type": "markdown",
      "metadata": {
        "id": "view-in-github",
        "colab_type": "text"
      },
      "source": [
        "<a href=\"https://colab.research.google.com/github/rahiakela/natural-language-processing-specialization/blob/master/course-2-natural-language-processing-with-probabilistic-models/week-1-Autocorrect/1_building_vocabulary.ipynb\" target=\"_parent\"><img src=\"https://colab.research.google.com/assets/colab-badge.svg\" alt=\"Open In Colab\"/></a>"
      ]
    },
    {
      "cell_type": "markdown",
      "metadata": {
        "id": "wg8-6k8KGtaT"
      },
      "source": [
        "# Building the Vocabulary"
      ]
    },
    {
      "cell_type": "markdown",
      "metadata": {
        "id": "EY-T52x6HK5B"
      },
      "source": [
        "Create a tiny vocabulary from a tiny corpus\n",
        "It's time to start small !"
      ]
    },
    {
      "cell_type": "code",
      "metadata": {
        "id": "A1NMAP_FHRcV"
      },
      "source": [
        "import re\n",
        "from collections import Counter\n",
        "import matplotlib.pyplot as plt"
      ],
      "execution_count": 1,
      "outputs": []
    },
    {
      "cell_type": "code",
      "metadata": {
        "id": "THDBx4PPHo5D",
        "colab": {
          "base_uri": "https://localhost:8080/"
        },
        "outputId": "c26e8f7a-5d99-4d37-b962-4b79bf1d3eeb"
      },
      "source": [
        "# the tiny corpus of text ! \n",
        "text = 'red pink pink blue blue yellow ORANGE BLUE BLUE PINK' # 🌈\n",
        "print(text)\n",
        "print('string length: ', len(text))"
      ],
      "execution_count": 2,
      "outputs": [
        {
          "output_type": "stream",
          "name": "stdout",
          "text": [
            "red pink pink blue blue yellow ORANGE BLUE BLUE PINK\n",
            "string length:  52\n"
          ]
        }
      ]
    },
    {
      "cell_type": "markdown",
      "metadata": {
        "id": "8JCtwj_AIFKH"
      },
      "source": [
        "## Preprocessing"
      ]
    },
    {
      "cell_type": "code",
      "metadata": {
        "id": "4ay-I-aQIAf_",
        "colab": {
          "base_uri": "https://localhost:8080/"
        },
        "outputId": "ac1e34c8-3c05-4ff2-8ab1-567c8bf40134"
      },
      "source": [
        "# convert all letters to lower case\n",
        "text_lowercase = text.lower()\n",
        "print(text_lowercase)\n",
        "print('string length: ', len(text_lowercase))"
      ],
      "execution_count": 3,
      "outputs": [
        {
          "output_type": "stream",
          "name": "stdout",
          "text": [
            "red pink pink blue blue yellow orange blue blue pink\n",
            "string length:  52\n"
          ]
        }
      ]
    },
    {
      "cell_type": "code",
      "metadata": {
        "id": "T2Sf1a3-IUsO",
        "colab": {
          "base_uri": "https://localhost:8080/"
        },
        "outputId": "7b22e9f1-c491-49fb-dd7b-15d72fc901e2"
      },
      "source": [
        "# some regex to tokenize the string to words and return them in a list\n",
        "words = re.findall(r'\\w+', text_lowercase)\n",
        "print(words)\n",
        "print('count: ', len(words))"
      ],
      "execution_count": 4,
      "outputs": [
        {
          "output_type": "stream",
          "name": "stdout",
          "text": [
            "['red', 'pink', 'pink', 'blue', 'blue', 'yellow', 'orange', 'blue', 'blue', 'pink']\n",
            "count:  10\n"
          ]
        }
      ]
    },
    {
      "cell_type": "markdown",
      "metadata": {
        "id": "z_PdMp69I-tq"
      },
      "source": [
        "## Create Vocabulary"
      ]
    },
    {
      "cell_type": "markdown",
      "metadata": {
        "id": "w6H2jOp1JB8d"
      },
      "source": [
        "Option 1 : A set of distinct words from the text"
      ]
    },
    {
      "cell_type": "code",
      "metadata": {
        "id": "2GSFR3mJI4ar",
        "colab": {
          "base_uri": "https://localhost:8080/"
        },
        "outputId": "3b01c8d0-e768-4c9e-973d-a08bc6570b76"
      },
      "source": [
        "# create vocab\n",
        "vocab = set(words)\n",
        "print(vocab)\n",
        "print('count: ', len(vocab))"
      ],
      "execution_count": 5,
      "outputs": [
        {
          "output_type": "stream",
          "name": "stdout",
          "text": [
            "{'pink', 'blue', 'orange', 'red', 'yellow'}\n",
            "count:  5\n"
          ]
        }
      ]
    },
    {
      "cell_type": "markdown",
      "metadata": {
        "id": "2aFqJ3u0JekB"
      },
      "source": [
        "## Create Vocabulary with Word Counts"
      ]
    },
    {
      "cell_type": "markdown",
      "metadata": {
        "id": "jLqPlW0YJiAJ"
      },
      "source": [
        "Option 2 : Two alternatives for including the word count as well"
      ]
    },
    {
      "cell_type": "code",
      "metadata": {
        "id": "VdKWsIBWJO98",
        "colab": {
          "base_uri": "https://localhost:8080/"
        },
        "outputId": "5b933bdb-9d89-4d34-8895-afaba0d751c4"
      },
      "source": [
        "# create vocab including word count\n",
        "counts_a = dict()\n",
        "for w in words:\n",
        "  counts_a[w] = counts_a.get(w, 0) + 1\n",
        "print(counts_a)\n",
        "print('count: ', len(counts_a))"
      ],
      "execution_count": 6,
      "outputs": [
        {
          "output_type": "stream",
          "name": "stdout",
          "text": [
            "{'red': 1, 'pink': 3, 'blue': 4, 'yellow': 1, 'orange': 1}\n",
            "count:  5\n"
          ]
        }
      ]
    },
    {
      "cell_type": "code",
      "metadata": {
        "id": "5IBhV-AZJ4rB",
        "colab": {
          "base_uri": "https://localhost:8080/"
        },
        "outputId": "c92708df-5aeb-4395-e588-c767dc392003"
      },
      "source": [
        "# create vocab inlcuding word count using collections.Counter\n",
        "counts_b = dict()\n",
        "counts_b = Counter(words)\n",
        "print(counts_b)\n",
        "print('count: ', len(counts_b))"
      ],
      "execution_count": 7,
      "outputs": [
        {
          "output_type": "stream",
          "name": "stdout",
          "text": [
            "Counter({'blue': 4, 'pink': 3, 'red': 1, 'yellow': 1, 'orange': 1})\n",
            "count:  5\n"
          ]
        }
      ]
    },
    {
      "cell_type": "code",
      "metadata": {
        "id": "mUWWwWOaKPUo",
        "colab": {
          "base_uri": "https://localhost:8080/",
          "height": 265
        },
        "outputId": "6194df49-57c4-4a9d-eb9a-ecae22297f81"
      },
      "source": [
        "# barchart of sorted word counts\n",
        "d = {\n",
        "    'blue': counts_b['blue'], \n",
        "    'pink': counts_b['pink'], \n",
        "    'red': counts_b['red'], \n",
        "    'yellow': counts_b['yellow'], \n",
        "    'orange': counts_b['orange']\n",
        "}\n",
        "plt.bar(range(len(d)), list(d.values()), align='center', color=d.keys())\n",
        "_ = plt.xticks(range(len(d)), list(d.keys()))"
      ],
      "execution_count": 8,
      "outputs": [
        {
          "output_type": "display_data",
          "data": {
            "image/png": "[encoded data removed]",
            "text/plain": [
              "<Figure size 432x288 with 1 Axes>"
            ]
          },
          "metadata": {
            "needs_background": "light"
          }
        }
      ]
    },
    {
      "cell_type": "markdown",
      "metadata": {
        "id": "ZkG7s3T3NUC6"
      },
      "source": [
        "## Exercise"
      ]
    },
    {
      "cell_type": "markdown",
      "metadata": {
        "id": "cmp5rSwiLpA8"
      },
      "source": [
        "Note that counts_b, above, returned by collections.Counter is sorted by word count\n",
        "\n",
        "Can you modify the tiny corpus of text so that a new color appears between pink and red in counts_b ?\n",
        "\n",
        "Do you need to run all the cells again, or just specific ones ?"
      ]
    },
    {
      "cell_type": "code",
      "metadata": {
        "id": "6QX6FebRL-oD",
        "colab": {
          "base_uri": "https://localhost:8080/"
        },
        "outputId": "41468823-ab9b-4d78-9b9f-e148c45542ae"
      },
      "source": [
        "# the tiny corpus of text ! \n",
        "text = 'red pink pink blue blue green green yellow ORANGE BLUE BLUE PINK' # 🌈\n",
        "print(text)\n",
        "\n",
        "# convert all letters to lower case\n",
        "text_lowercase = text.lower()\n",
        "print(text_lowercase)\n",
        "\n",
        "# some regex to tokenize the string to words and return them in a list\n",
        "words = re.findall(r'\\w+', text_lowercase)\n",
        "print(words)\n",
        "\n",
        "# create vocab inlcuding word count using collections.Counter\n",
        "counts_b = dict()\n",
        "counts_b = Counter(words)\n",
        "print(counts_b)\n",
        "\n",
        "\n",
        "print('counts_b : ', counts_b)\n",
        "print('count : ', len(counts_a))"
      ],
      "execution_count": 9,
      "outputs": [
        {
          "output_type": "stream",
          "name": "stdout",
          "text": [
            "red pink pink blue blue green green yellow ORANGE BLUE BLUE PINK\n",
            "red pink pink blue blue green green yellow orange blue blue pink\n",
            "['red', 'pink', 'pink', 'blue', 'blue', 'green', 'green', 'yellow', 'orange', 'blue', 'blue', 'pink']\n",
            "Counter({'blue': 4, 'pink': 3, 'green': 2, 'red': 1, 'yellow': 1, 'orange': 1})\n",
            "counts_b :  Counter({'blue': 4, 'pink': 3, 'green': 2, 'red': 1, 'yellow': 1, 'orange': 1})\n",
            "count :  5\n"
          ]
        }
      ]
    },
    {
      "cell_type": "code",
      "metadata": {
        "id": "TG5S5jn9MDfR",
        "colab": {
          "base_uri": "https://localhost:8080/",
          "height": 265
        },
        "outputId": "42c44533-52ca-4c86-c2c9-0f48e0faa8cb"
      },
      "source": [
        "# barchart of sorted word counts\n",
        "d = {\n",
        "    'blue': counts_b['blue'], \n",
        "    'pink': counts_b['pink'], \n",
        "     'green': counts_b['green'],\n",
        "    'red': counts_b['red'], \n",
        "    'yellow': counts_b['yellow'], \n",
        "    'orange': counts_b['orange']\n",
        "}\n",
        "plt.bar(range(len(d)), list(d.values()), align='center', color=d.keys())\n",
        "_ = plt.xticks(range(len(d)), list(d.keys()))"
      ],
      "execution_count": 10,
      "outputs": [
        {
          "output_type": "display_data",
          "data": {
            "image/png": "[encoded data removed]",
            "text/plain": [
              "<Figure size 432x288 with 1 Axes>"
            ]
          },
          "metadata": {
            "needs_background": "light"
          }
        }
      ]
    },
    {
      "cell_type": "markdown",
      "metadata": {
        "id": "wxitQ_RZNEJe"
      },
      "source": [
        "## Summary"
      ]
    },
    {
      "cell_type": "markdown",
      "metadata": {
        "id": "kIXKoHnDNFBJ"
      },
      "source": [
        "This is a tiny example but the methodology scales very well.\n",
        "\n",
        "In the assignment you will create a large vocabulary of thousands of words, from a corpus\n",
        "of tens of thousands or words! But the mechanics are exactly the same.\n",
        "\n",
        "The only extra things to pay attention to will be; run time, memory management and the vocab data structure.\n",
        "\n",
        "So the choice of approach used in code blocks counts_a vs counts_b, above, will be important."
      ]
    }
  ]
}