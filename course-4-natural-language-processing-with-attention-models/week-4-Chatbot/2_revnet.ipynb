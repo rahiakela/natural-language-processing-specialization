{
  "nbformat": 4,
  "nbformat_minor": 0,
  "metadata": {
    "jupytext": {
      "formats": "ipynb,py:percent"
    },
    "kernelspec": {
      "display_name": "Python 3",
      "language": "python",
      "name": "python3"
    },
    "language_info": {
      "codemirror_mode": {
        "name": "ipython",
        "version": 3
      },
      "file_extension": ".py",
      "mimetype": "text/x-python",
      "name": "python",
      "nbconvert_exporter": "python",
      "pygments_lexer": "ipython3",
      "version": "3.7.6"
    },
    "colab": {
      "name": "2-revnet.ipynb",
      "provenance": [],
      "toc_visible": true,
      "include_colab_link": true
    }
  },
  "cells": [
    {
      "cell_type": "markdown",
      "metadata": {
        "id": "view-in-github",
        "colab_type": "text"
      },
      "source": [
        "<a href=\"https://colab.research.google.com/github/rahiakela/natural-language-processing-specialization/blob/master/course-4-natural-language-processing-with-attention-models/week-4-Chatbot/2_revnet.ipynb\" target=\"_parent\"><img src=\"https://colab.research.google.com/assets/colab-badge.svg\" alt=\"Open In Colab\"/></a>"
      ]
    },
    {
      "cell_type": "markdown",
      "metadata": {
        "id": "ZjkU7rJyYqEY"
      },
      "source": [
        "## Putting the \"Re\" in Reformer: Revnet\n",
        "\n",
        "\n"
      ]
    },
    {
      "cell_type": "markdown",
      "metadata": {
        "id": "OP8Pz6pybHwJ"
      },
      "source": [
        "This ungraded lab will explore Reversible Residual Networks. You will use these networks in this week's assignment that utilizes the Reformer model. It is based on on the Transformer model you already know, but with two unique features.\n",
        "* Locality Sensitive Hashing (LSH) Attention to reduce the compute cost of the dot product attention and\n",
        "* Reversible Residual Networks (RevNets) organization to reduce the storage requirements when doing backpropagation in training.\n",
        "\n",
        "In this ungraded lab we'll start with a quick review of Residual Networks and their implementation in Trax. Then we will discuss the Revnet architecture and its use in Reformer.\n"
      ]
    },
    {
      "cell_type": "markdown",
      "metadata": {
        "id": "qWesFeiDbTbU"
      },
      "source": [
        "## Outline"
      ]
    },
    {
      "cell_type": "markdown",
      "metadata": {
        "id": "Zns3ROOBbTrl"
      },
      "source": [
        "\n",
        "- [Part 1:  Residual Networks](#1)\n",
        "    - [1.1  Branch](#1.1)\n",
        "    - [1.2  Residual Model](#1.2)\n",
        "- [Part 2:  Reversible Residual Networks](#2)\n",
        "    - [2.1  Trax Reversible Layers](#2.1)\n",
        "    - [2.2  Residual Model](#2.2)"
      ]
    },
    {
      "cell_type": "markdown",
      "metadata": {
        "id": "sFTK8M_vbYCB"
      },
      "source": [
        "##Setup"
      ]
    },
    {
      "cell_type": "code",
      "metadata": {
        "id": "jYnGQoJgj4sG"
      },
      "source": [
        "!pip -q install trax==1.3.9"
      ],
      "execution_count": null,
      "outputs": []
    },
    {
      "cell_type": "code",
      "metadata": {
        "lines_to_next_cell": 2,
        "id": "bH3r0lEMYqEb",
        "outputId": "7293c4bc-bc7a-4755-c0f7-29e24e9c7e87"
      },
      "source": [
        "import trax\n",
        "from trax import layers as tl               # core building block\n",
        "import numpy as np                          # regular ol' numpy\n",
        "from trax.models.reformer.reformer import (\n",
        "    ReversibleHalfResidualV2 as ReversibleHalfResidual,\n",
        ")                                           # unique spot\n",
        "from trax import fastmath                   # uses jax, offers numpy on steroids\n",
        "from trax import shapes                     # data signatures: dimensionality and type\n",
        "from trax.fastmath import numpy as jnp      # For use in defining new layer types.\n",
        "from trax.shapes import ShapeDtype\n",
        "from trax.shapes import signature"
      ],
      "execution_count": null,
      "outputs": [
        {
          "output_type": "stream",
          "text": [
            "INFO:tensorflow:tokens_length=568 inputs_length=512 targets_length=114 noise_density=0.15 mean_noise_span_length=3.0 \n"
          ],
          "name": "stdout"
        }
      ]
    },
    {
      "cell_type": "markdown",
      "metadata": {
        "id": "bDKqlAI9cKen"
      },
      "source": [
        "## Part 1.0  Residual Networks"
      ]
    },
    {
      "cell_type": "markdown",
      "metadata": {
        "id": "Km9uYqrmYqEd"
      },
      "source": [
        "\n",
        "[Deep Residual Networks ](https://arxiv.org/abs/1512.03385) (Resnets) were introduced to improve convergence in deep networks. Residual Networks introduce a shortcut connection around one or more layers in a deep network as shown in the diagram below from the original paper.\n",
        "\n",
        "<center><img src = \"images/Revnet7.png\" height=\"250\" width=\"250\"></center>\n",
        "<center><b>Figure 1: Residual Network diagram from original paper</b></center>\n",
        "\n",
        "The [Trax documentation](https://trax-ml.readthedocs.io/en/latest/notebooks/layers_intro.html#2.-Inputs-and-Outputs) describes an implementation of Resnets using `branch`. We'll explore that here by implementing a simple resnet built from simple function based layers. Specifically, we'll build a 4 layer network based on two functions, 'F' and 'G'.\n",
        "\n",
        "<img src = \"images/Revnet8.png\" height=\"200\" width=\"1400\">\n",
        "<center><b>Figure 2: 4 stage Residual network</b></center>\n",
        "Don't worry about the lengthy equations. Those are simply there to be referenced later in the notebook."
      ]
    },
    {
      "cell_type": "markdown",
      "metadata": {
        "id": "_7Yw_6qkcW3_"
      },
      "source": [
        "<a name=\"1.1\"></a>\n",
        "### Part 1.1  Branch"
      ]
    },
    {
      "cell_type": "markdown",
      "metadata": {
        "id": "tfPKCbZOYqEf"
      },
      "source": [
        "\n",
        "Trax `branch` figures prominently in the residual network layer so we will first examine it. You can see from the figure above that we will need a function that will copy an input and send it down multiple paths. This is accomplished with a  [branch layer](https://trax-ml.readthedocs.io/en/latest/trax.layers.html#module-trax.layers.combinators), one of the Trax 'combinators'. Branch is a combinator that applies a list of layers in parallel to copies of inputs. Lets try it out!  First we will need some layers to play with. Let's build some from functions."
      ]
    },
    {
      "cell_type": "code",
      "metadata": {
        "tags": [],
        "id": "E8L44PK4YqEg",
        "outputId": "d3029f82-7214-41a4-d0f3-a630acced479"
      },
      "source": [
        "# simple function taking one input and one output\n",
        "bl_add1 = tl.Fn(\"add1\", lambda x0: (x0 + 1), n_out=1)\n",
        "bl_add2 = tl.Fn(\"add2\", lambda x0: (x0 + 2), n_out=1)\n",
        "bl_add3 = tl.Fn(\"add3\", lambda x0: (x0 + 3), n_out=1)\n",
        "# try them out\n",
        "x = np.array([1])\n",
        "print(bl_add1(x), bl_add2(x), bl_add3(x))\n",
        "# some information about our new layers\n",
        "print(\n",
        "    \"name:\",\n",
        "    bl_add1.name,\n",
        "    \"number of inputs:\",\n",
        "    bl_add1.n_in,\n",
        "    \"number of outputs:\",\n",
        "    bl_add1.n_out,\n",
        ")"
      ],
      "execution_count": null,
      "outputs": [
        {
          "output_type": "stream",
          "text": [
            "[2] [3] [4]\n",
            "name: add1 number of inputs: 1 number of outputs: 1\n"
          ],
          "name": "stdout"
        }
      ]
    },
    {
      "cell_type": "code",
      "metadata": {
        "id": "pftWdNn_YqEh",
        "outputId": "67167299-170f-434a-f999-c7abdee2e6af"
      },
      "source": [
        "bl_3add1s = tl.Branch(bl_add1, bl_add2, bl_add3)\n",
        "bl_3add1s"
      ],
      "execution_count": null,
      "outputs": [
        {
          "output_type": "execute_result",
          "data": {
            "text/plain": [
              "Branch_out3[\n",
              "  add1\n",
              "  add2\n",
              "  add3\n",
              "]"
            ]
          },
          "metadata": {
            "tags": []
          },
          "execution_count": 3
        }
      ]
    },
    {
      "cell_type": "markdown",
      "metadata": {
        "id": "jxdE_DKmYqEj"
      },
      "source": [
        "Trax uses the concept of a 'stack' to transfer data between layers.\n",
        "For Branch, for each of its layer arguments, it copies the `n_in` inputs from the stack and provides them to the layer, tracking the max_n_in, or the largest n_in required. It then pops the max_n_in elements from the stack.\n",
        "<img src = \"images/branch1.png\" height=\"260\" width=\"600\">\n",
        "<center><b>Figure 3: One in, one out Branch</b></center>\n",
        "On output, each layer, in succession pushes its results onto the stack. Note that the push/pull operations impact the top of the stack. Elements that are not part of the operation (n, and m in the diagram) remain intact."
      ]
    },
    {
      "cell_type": "code",
      "metadata": {
        "id": "uMuuonjFYqEk",
        "outputId": "cd8769a7-a7ad-4e55-a8c9-35ed46a6da7d"
      },
      "source": [
        "# n_in = 1, Each bl_addx pushes n_out = 1 elements onto the stack\n",
        "bl_3add1s(x)"
      ],
      "execution_count": null,
      "outputs": [
        {
          "output_type": "execute_result",
          "data": {
            "text/plain": [
              "(array([2]), array([3]), array([4]))"
            ]
          },
          "metadata": {
            "tags": []
          },
          "execution_count": 4
        }
      ]
    },
    {
      "cell_type": "code",
      "metadata": {
        "id": "O7jOgeRyYqEk",
        "outputId": "342aeba4-e5ad-4c55-f7ee-c62b16c545f6"
      },
      "source": [
        "# n = np.array([10]); m = np.array([20])  # n, m will remain on the stack\n",
        "n = np.array([\"n\"])\n",
        "m = np.array([\"m\"])  # n, m will remain on the stack\n",
        "bl_3add1s([x, n, m]) "
      ],
      "execution_count": null,
      "outputs": [
        {
          "output_type": "execute_result",
          "data": {
            "text/plain": [
              "(array([2]),\n",
              " array([3]),\n",
              " array([4]),\n",
              " array(['n'], dtype='<U1'),\n",
              " array(['m'], dtype='<U1'))"
            ]
          },
          "metadata": {
            "tags": []
          },
          "execution_count": 5
        }
      ]
    },
    {
      "cell_type": "markdown",
      "metadata": {
        "id": "C1EI0vqTYqEl"
      },
      "source": [
        "Each layer in the input list copies as many inputs from the stack as it needs, and their outputs are successively combined on stack. Put another way, each element of the branch can have differing numbers of inputs and outputs. Let's try a more complex example."
      ]
    },
    {
      "cell_type": "code",
      "metadata": {
        "id": "6vJJYNDDYqEm"
      },
      "source": [
        "bl_addab = tl.Fn(\n",
        "    \"addab\", lambda x0, x1: (x0 + x1), n_out=1\n",
        ")  # Trax figures out how many inputs there are\n",
        "bl_rep3x = tl.Fn(\n",
        "    \"add2x\", lambda x0: (x0, x0, x0), n_out=3\n",
        ")  # but you have to tell it how many outputs there are\n",
        "bl_3ops = tl.Branch(bl_add1, bl_addab, bl_rep3x)"
      ],
      "execution_count": null,
      "outputs": []
    },
    {
      "cell_type": "markdown",
      "metadata": {
        "id": "PoVhsoI0YqEm"
      },
      "source": [
        "In this case, the number if inputs being copied from the stack varies with the layer\n",
        "<img src = \"images/branch2.png\" height=\"260\" width=\"600\">\n",
        "<center><b>Figure 4: variable in, variable out Branch</b></center>\n",
        "The stack when the operation is finished is 5 entries reflecting the total from each layer."
      ]
    },
    {
      "cell_type": "code",
      "metadata": {
        "id": "T43LEUTNYqEn",
        "outputId": "41106656-5cb6-4a71-97d9-2c441cf5b1fa"
      },
      "source": [
        "# Before Running this cell, what is the output you are expecting?\n",
        "y = np.array([3])\n",
        "bl_3ops([x, y, n, m])"
      ],
      "execution_count": null,
      "outputs": [
        {
          "output_type": "execute_result",
          "data": {
            "text/plain": [
              "(array([2]),\n",
              " array([4]),\n",
              " array([1]),\n",
              " array([1]),\n",
              " array([1]),\n",
              " array(['n'], dtype='<U1'),\n",
              " array(['m'], dtype='<U1'))"
            ]
          },
          "metadata": {
            "tags": []
          },
          "execution_count": 7
        }
      ]
    },
    {
      "cell_type": "markdown",
      "metadata": {
        "id": "-0zqhbCWYqEn"
      },
      "source": [
        "Branch has a special feature to support Residual Network. If an argument is 'None', it will pull the top of stack  and push it (at its location in the sequence) onto the output stack\n",
        "<img src = \"images/branch3.png\" height=\"260\" width=\"600\">\n",
        "<center><b>Figure 5: Branch for Residual</b></center>"
      ]
    },
    {
      "cell_type": "code",
      "metadata": {
        "tags": [],
        "id": "G3KUtBEMYqEo",
        "outputId": "d330d872-18e5-408c-f444-5c73701b87f4"
      },
      "source": [
        "bl_2ops = tl.Branch(bl_add1, None)\n",
        "bl_2ops([x, n, m])"
      ],
      "execution_count": null,
      "outputs": [
        {
          "output_type": "execute_result",
          "data": {
            "text/plain": [
              "(array([2]), array([1]), array(['n'], dtype='<U1'), array(['m'], dtype='<U1'))"
            ]
          },
          "metadata": {
            "tags": []
          },
          "execution_count": 8
        }
      ]
    },
    {
      "cell_type": "markdown",
      "metadata": {
        "id": "9Klwo5ZJeDOh"
      },
      "source": [
        "<a name=\"1.2\"></a>\n",
        "### Part 1.2  Residual Model"
      ]
    },
    {
      "cell_type": "markdown",
      "metadata": {
        "id": "qnrt5ZZdYqEo"
      },
      "source": [
        "\n",
        "OK, your turn. Write a function 'MyResidual', that uses `tl.Branch` and `tl.Add` to build a residual layer. If you are curious about the Trax implementation, you can see the code [here](https://github.com/google/trax/blob/190ec6c3d941d8a9f30422f27ef0c95dc16d2ab1/trax/layers/combinators.py)."
      ]
    },
    {
      "cell_type": "code",
      "metadata": {
        "id": "0cQhuUQQYqEp"
      },
      "source": [
        "def MyResidual(layer):\n",
        "    return tl.Serial(\n",
        "        ### START CODE HERE ###\n",
        "        tl.Branch(layer),\n",
        "        tl.Add(),\n",
        "        ### END CODE HERE ###\n",
        "    )"
      ],
      "execution_count": null,
      "outputs": []
    },
    {
      "cell_type": "code",
      "metadata": {
        "id": "pyGf50X8YqEp",
        "outputId": "213733d1-7f31-46d9-ea8a-8d39db27c9cc"
      },
      "source": [
        "# Lets Try it\n",
        "mr = MyResidual(bl_add1)\n",
        "x = np.array([1])\n",
        "mr([x, n, m])"
      ],
      "execution_count": null,
      "outputs": [
        {
          "output_type": "error",
          "ename": "LayerError",
          "evalue": "Exception passing through layer Serial (in pure_fn):\n  layer created in file [...]/<ipython-input-9-4eb7c5182603>, line 5\n  layer input shapes: [ShapeDtype{shape:(1,), dtype:int64}, ShapeDtype{shape:(1,), dtype:<U1}, ShapeDtype{shape:(1,), dtype:<U1}]\n\n  File [...]/trax/layers/combinators.py, line 88, in forward\n    outputs, s = layer.pure_fn(inputs, w, s, rng, use_cache=True)\n\nLayerError: Exception passing through layer Add (in pure_fn):\n  layer created in file [...]/trax/layers/base.py, line 704\n  layer input shapes: (ShapeDtype{shape:(1,), dtype:int64}, ShapeDtype{shape:(1,), dtype:<U1})\n\n  File [...]/trax/layers/base.py, line 658, in forward\n    raw_output = self._forward_fn(inputs)\n\n  File [...]/trax/layers/base.py, line 700, in _forward\n    return f(*xs)\n\n  File [...]/trax/layers/combinators.py, line 614, in <lambda>\n    return Fn('Add', lambda x0, x1: x0 + x1)\n\nnumpy.core._exceptions.UFuncTypeError: ufunc 'add' did not contain a loop with signature matching types (dtype('<U21'), dtype('<U21')) -> dtype('<U21')",
          "traceback": [
            "\u001b[0;31m---------------------------------------------------------------------------\u001b[0m",
            "\u001b[0;31mLayerError\u001b[0m                                Traceback (most recent call last)",
            "\u001b[0;32m<ipython-input-10-6112c4b6943e>\u001b[0m in \u001b[0;36m<module>\u001b[0;34m\u001b[0m\n\u001b[1;32m      2\u001b[0m \u001b[0mmr\u001b[0m \u001b[0;34m=\u001b[0m \u001b[0mMyResidual\u001b[0m\u001b[0;34m(\u001b[0m\u001b[0mbl_add1\u001b[0m\u001b[0;34m)\u001b[0m\u001b[0;34m\u001b[0m\u001b[0;34m\u001b[0m\u001b[0m\n\u001b[1;32m      3\u001b[0m \u001b[0mx\u001b[0m \u001b[0;34m=\u001b[0m \u001b[0mnp\u001b[0m\u001b[0;34m.\u001b[0m\u001b[0marray\u001b[0m\u001b[0;34m(\u001b[0m\u001b[0;34m[\u001b[0m\u001b[0;36m1\u001b[0m\u001b[0;34m]\u001b[0m\u001b[0;34m)\u001b[0m\u001b[0;34m\u001b[0m\u001b[0;34m\u001b[0m\u001b[0m\n\u001b[0;32m----> 4\u001b[0;31m \u001b[0mmr\u001b[0m\u001b[0;34m(\u001b[0m\u001b[0;34m[\u001b[0m\u001b[0mx\u001b[0m\u001b[0;34m,\u001b[0m \u001b[0mn\u001b[0m\u001b[0;34m,\u001b[0m \u001b[0mm\u001b[0m\u001b[0;34m]\u001b[0m\u001b[0;34m)\u001b[0m\u001b[0;34m\u001b[0m\u001b[0;34m\u001b[0m\u001b[0m\n\u001b[0m",
            "\u001b[0;32m/opt/conda/lib/python3.7/site-packages/trax/layers/base.py\u001b[0m in \u001b[0;36m__call__\u001b[0;34m(self, x, weights, state, rng)\u001b[0m\n\u001b[1;32m    171\u001b[0m       \u001b[0mself\u001b[0m\u001b[0;34m.\u001b[0m\u001b[0mstate\u001b[0m \u001b[0;34m=\u001b[0m \u001b[0mstate\u001b[0m  \u001b[0;31m# Needed if the model wasn't fully initialized.\u001b[0m\u001b[0;34m\u001b[0m\u001b[0;34m\u001b[0m\u001b[0m\n\u001b[1;32m    172\u001b[0m     \u001b[0mstate\u001b[0m \u001b[0;34m=\u001b[0m \u001b[0mself\u001b[0m\u001b[0;34m.\u001b[0m\u001b[0mstate\u001b[0m\u001b[0;34m\u001b[0m\u001b[0;34m\u001b[0m\u001b[0m\n\u001b[0;32m--> 173\u001b[0;31m     \u001b[0moutputs\u001b[0m\u001b[0;34m,\u001b[0m \u001b[0mnew_state\u001b[0m \u001b[0;34m=\u001b[0m \u001b[0mself\u001b[0m\u001b[0;34m.\u001b[0m\u001b[0mpure_fn\u001b[0m\u001b[0;34m(\u001b[0m\u001b[0mx\u001b[0m\u001b[0;34m,\u001b[0m \u001b[0mweights\u001b[0m\u001b[0;34m,\u001b[0m \u001b[0mstate\u001b[0m\u001b[0;34m,\u001b[0m \u001b[0mrng\u001b[0m\u001b[0;34m)\u001b[0m\u001b[0;34m\u001b[0m\u001b[0;34m\u001b[0m\u001b[0m\n\u001b[0m\u001b[1;32m    174\u001b[0m     \u001b[0mself\u001b[0m\u001b[0;34m.\u001b[0m\u001b[0mstate\u001b[0m \u001b[0;34m=\u001b[0m \u001b[0mnew_state\u001b[0m\u001b[0;34m\u001b[0m\u001b[0;34m\u001b[0m\u001b[0m\n\u001b[1;32m    175\u001b[0m     \u001b[0mself\u001b[0m\u001b[0;34m.\u001b[0m\u001b[0mweights\u001b[0m \u001b[0;34m=\u001b[0m \u001b[0mweights\u001b[0m\u001b[0;34m\u001b[0m\u001b[0;34m\u001b[0m\u001b[0m\n",
            "\u001b[0;32m/opt/conda/lib/python3.7/site-packages/trax/layers/base.py\u001b[0m in \u001b[0;36mpure_fn\u001b[0;34m(self, x, weights, state, rng, use_cache)\u001b[0m\n\u001b[1;32m    521\u001b[0m       \u001b[0mname\u001b[0m\u001b[0;34m,\u001b[0m \u001b[0mtrace\u001b[0m \u001b[0;34m=\u001b[0m \u001b[0mself\u001b[0m\u001b[0;34m.\u001b[0m\u001b[0m_name\u001b[0m\u001b[0;34m,\u001b[0m \u001b[0m_short_traceback\u001b[0m\u001b[0;34m(\u001b[0m\u001b[0mskip\u001b[0m\u001b[0;34m=\u001b[0m\u001b[0;36m3\u001b[0m\u001b[0;34m)\u001b[0m\u001b[0;34m\u001b[0m\u001b[0;34m\u001b[0m\u001b[0m\n\u001b[1;32m    522\u001b[0m       raise LayerError(name, 'pure_fn',\n\u001b[0;32m--> 523\u001b[0;31m                        self._caller, signature(x), trace) from None\n\u001b[0m\u001b[1;32m    524\u001b[0m \u001b[0;34m\u001b[0m\u001b[0m\n\u001b[1;32m    525\u001b[0m   \u001b[0;32mdef\u001b[0m \u001b[0moutput_signature\u001b[0m\u001b[0;34m(\u001b[0m\u001b[0mself\u001b[0m\u001b[0;34m,\u001b[0m \u001b[0minput_signature\u001b[0m\u001b[0;34m)\u001b[0m\u001b[0;34m:\u001b[0m\u001b[0;34m\u001b[0m\u001b[0;34m\u001b[0m\u001b[0m\n",
            "\u001b[0;31mLayerError\u001b[0m: Exception passing through layer Serial (in pure_fn):\n  layer created in file [...]/<ipython-input-9-4eb7c5182603>, line 5\n  layer input shapes: [ShapeDtype{shape:(1,), dtype:int64}, ShapeDtype{shape:(1,), dtype:<U1}, ShapeDtype{shape:(1,), dtype:<U1}]\n\n  File [...]/trax/layers/combinators.py, line 88, in forward\n    outputs, s = layer.pure_fn(inputs, w, s, rng, use_cache=True)\n\nLayerError: Exception passing through layer Add (in pure_fn):\n  layer created in file [...]/trax/layers/base.py, line 704\n  layer input shapes: (ShapeDtype{shape:(1,), dtype:int64}, ShapeDtype{shape:(1,), dtype:<U1})\n\n  File [...]/trax/layers/base.py, line 658, in forward\n    raw_output = self._forward_fn(inputs)\n\n  File [...]/trax/layers/base.py, line 700, in _forward\n    return f(*xs)\n\n  File [...]/trax/layers/combinators.py, line 614, in <lambda>\n    return Fn('Add', lambda x0, x1: x0 + x1)\n\nnumpy.core._exceptions.UFuncTypeError: ufunc 'add' did not contain a loop with signature matching types (dtype('<U21'), dtype('<U21')) -> dtype('<U21')"
          ]
        }
      ]
    },
    {
      "cell_type": "markdown",
      "metadata": {
        "id": "FOzJs5gKYqEp"
      },
      "source": [
        "**Expected Result**\n",
        "(array([3]), 'n', 'm')"
      ]
    },
    {
      "cell_type": "markdown",
      "metadata": {
        "id": "Oyt3wW77YqEq"
      },
      "source": [
        "Great! Now, let's build the 4 layer residual Network in Figure 2. You can use `MyResidual`, or if you prefer, the tl.Residual in Trax, or a combination!"
      ]
    },
    {
      "cell_type": "code",
      "metadata": {
        "id": "LvpcrP4XYqEq"
      },
      "source": [
        "Fl = tl.Fn(\"F\", lambda x0: (2 * x0), n_out=1)\n",
        "Gl = tl.Fn(\"G\", lambda x0: (10 * x0), n_out=1)\n",
        "x1 = np.array([1])"
      ],
      "execution_count": null,
      "outputs": []
    },
    {
      "cell_type": "code",
      "metadata": {
        "id": "gZ5-4UqMYqEq"
      },
      "source": [
        "resfg = tl.Serial(\n",
        "    ### START CODE HERE ###\n",
        "    # None,  #Fl    # x + F(x)\n",
        "    # None,  #Gl    # x + F(x) + G(x + F(x)) etc\n",
        "    # None,  #Fl\n",
        "    # None,  #Gl\n",
        "    ### END CODE HERE ###\n",
        ")"
      ],
      "execution_count": null,
      "outputs": []
    },
    {
      "cell_type": "code",
      "metadata": {
        "id": "E27KQvaBYqEq",
        "outputId": "563964aa-fbf7-4995-8e96-f3dc5ff5ed61"
      },
      "source": [
        "# Lets try it\n",
        "resfg([x1, n, m])"
      ],
      "execution_count": null,
      "outputs": [
        {
          "output_type": "execute_result",
          "data": {
            "text/plain": [
              "[array([1]), 'n', 'm']"
            ]
          },
          "metadata": {
            "tags": []
          },
          "execution_count": 13
        }
      ]
    },
    {
      "cell_type": "markdown",
      "metadata": {
        "id": "kAX_iL_EYqEr"
      },
      "source": [
        "**Expected Results**\n",
        "(array([1089]), 'n', 'm')"
      ]
    },
    {
      "cell_type": "markdown",
      "metadata": {
        "id": "S9D5arrueIsp"
      },
      "source": [
        "<a name=\"2\"></a>\n",
        "## Part 2.0 Reversible Residual Networks"
      ]
    },
    {
      "cell_type": "markdown",
      "metadata": {
        "id": "gWNmVZl7YqEr"
      },
      "source": [
        "\n",
        "The Reformer utilized RevNets to reduce the storage requirements for performing backpropagation.\n",
        "\n",
        "<img src = \"images/reversible2.PNG\" height=\"260\" width=\"600\">\n",
        "<center><b>Figure 6: Reversible Residual Networks </b></center>\n",
        "\n",
        "The standard approach on the left above requires one to store the outputs of each stage for use during backprop. By using the organization to the right, one need only store the outputs of the last stage, y1, y2 in the diagram. Using those values and running the algorithm in reverse, one can reproduce the values required for backprop. This trades additional computation for memory space which is at a premium with the current generation of GPU's/TPU's.\n",
        "\n",
        "One thing to note is that the forward functions produced by two networks are similar, but they are not equivalent. Note for example the asymmetry in the output equations after two stages of operation.\n",
        "\n",
        "<img src = \"images/Revnet1.png\" height=\"340\" width=\"1100\">\n",
        "<center><b>Figure 7: 'Normal' Residual network (Top) vs REversible Residual Network </b></center>"
      ]
    },
    {
      "cell_type": "markdown",
      "metadata": {
        "id": "i6FyzVvRemnP"
      },
      "source": [
        "### Part 2.1  Trax Reversible Layers"
      ]
    },
    {
      "cell_type": "markdown",
      "metadata": {
        "id": "43VXNLiAenkI"
      },
      "source": [
        "Let's take a look at how this is used in the Reformer."
      ]
    },
    {
      "cell_type": "code",
      "metadata": {
        "id": "c_VATfqfYqEr",
        "outputId": "f70ea93d-d636-4eb6-c726-8fdf933ad73a"
      },
      "source": [
        "refm = trax.models.reformer.ReformerLM(\n",
        "    vocab_size=33000, n_layers=2, mode=\"train\"  # Add more options.\n",
        ")\n",
        "refm"
      ],
      "execution_count": null,
      "outputs": [
        {
          "output_type": "execute_result",
          "data": {
            "text/plain": [
              "Serial[\n",
              "  ShiftRight(1)\n",
              "  Embedding_33000_512\n",
              "  Dropout\n",
              "  PositionalEncoding\n",
              "  Dup_out2\n",
              "  ReversibleSerial_in2_out2[\n",
              "    ReversibleHalfResidualV2_in2_out2[\n",
              "      Serial[\n",
              "        LayerNorm\n",
              "      ]\n",
              "      SelfAttention\n",
              "    ]\n",
              "    ReversibleSwap_in2_out2\n",
              "    ReversibleHalfResidualV2_in2_out2[\n",
              "      Serial[\n",
              "        LayerNorm\n",
              "        Dense_2048\n",
              "        Dropout\n",
              "        FastGelu\n",
              "        Dense_512\n",
              "        Dropout\n",
              "      ]\n",
              "    ]\n",
              "    ReversibleSwap_in2_out2\n",
              "    ReversibleHalfResidualV2_in2_out2[\n",
              "      Serial[\n",
              "        LayerNorm\n",
              "      ]\n",
              "      SelfAttention\n",
              "    ]\n",
              "    ReversibleSwap_in2_out2\n",
              "    ReversibleHalfResidualV2_in2_out2[\n",
              "      Serial[\n",
              "        LayerNorm\n",
              "        Dense_2048\n",
              "        Dropout\n",
              "        FastGelu\n",
              "        Dense_512\n",
              "        Dropout\n",
              "      ]\n",
              "    ]\n",
              "    ReversibleSwap_in2_out2\n",
              "  ]\n",
              "  Concatenate_in2\n",
              "  LayerNorm\n",
              "  Dropout\n",
              "  Dense_33000\n",
              "  LogSoftmax\n",
              "]"
            ]
          },
          "metadata": {
            "tags": []
          },
          "execution_count": 14
        }
      ]
    },
    {
      "cell_type": "markdown",
      "metadata": {
        "id": "EKX00A-4YqEs"
      },
      "source": [
        "Eliminating some of the detail, we can see the structure of the network.\n",
        "\n",
        "<img src = \"images/Revnet2.png\" height=\"300\" width=\"350\">\n",
        "<center><b>Figure 8: Key Structure of Reformer Reversible Network Layers in Trax </b></center>\n",
        "\n",
        "We'll review the Trax layers used to implement the Reversible section of the Reformer. First we can note that not all of the reformer is reversible. Only the section in the ReversibleSerial layer is reversible. In a large Reformer model, that section is repeated many times making up the majority of the model.\n",
        "<img src = \"images/Revnet3.png\" height=\"650\" width=\"1600\">\n",
        "<center><b>Figure 9: Functional Diagram of Trax elements in Reformer </b></center>"
      ]
    },
    {
      "cell_type": "markdown",
      "metadata": {
        "id": "bYbLRJOAYqEs"
      },
      "source": [
        "The implementation starts by duplicating the input to allow the two paths that are part of the reversible residual organization with [Dup](https://github.com/google/trax/blob/190ec6c3d941d8a9f30422f27ef0c95dc16d2ab1/trax/layers/combinators.py#L666). Note that this is accomplished by copying the top of stack and pushing two copies of it onto the stack. This then feeds into the ReversibleHalfResidual layer which we'll review in more detail below. This is followed by [ReversibleSwap](https://github.com/google/trax/blob/190ec6c3d941d8a9f30422f27ef0c95dc16d2ab1/trax/layers/reversible.py#L83). As the name implies, this performs a swap, in this case, the two topmost entries in the stack. This pattern is repeated until we reach the end of the ReversibleSerial section. At that point, the topmost 2 entries of the stack represent the two paths through the network. These are concatenated and pushed onto the stack. The result is an entry that is twice the size of the non-reversible version.\n",
        "\n",
        "Let's look more closely at the [ReversibleHalfResidual](https://github.com/google/trax/blob/190ec6c3d941d8a9f30422f27ef0c95dc16d2ab1/trax/layers/reversible.py#L154). This layer is responsible for executing the layer or layers provided as arguments and adding the output of those layers, the 'residual', to the top of the stack. Below is the 'forward' routine which implements this.\n",
        "<img src = \"images/Revnet4.png\" height=\"650\" width=\"1600\">\n",
        "<center><b>Figure 10: ReversibleHalfResidual code and diagram </b></center>\n",
        "\n",
        "Unlike the previous residual function, the value that is added is from the second path rather than the input to the set of sublayers in this layer. Note that the Layers called by the ReversibleHalfResidual forward function are not modified to support reverse functionality. This layer provides them a 'normal' view of the stack and takes care of reverse operation.\n",
        "\n",
        "Let's try out some of these layers! We'll start with the ones that just operate on the stack, Dup() and Swap()."
      ]
    },
    {
      "cell_type": "code",
      "metadata": {
        "id": "7J23C0ADYqEt",
        "outputId": "dac85bc7-2586-4a9e-d470-f7519e4c85bf"
      },
      "source": [
        "x1 = np.array([1])\n",
        "x2 = np.array([5])\n",
        "# Dup() duplicates the Top of Stack and returns the stack\n",
        "dl = tl.Dup()\n",
        "dl(x1)"
      ],
      "execution_count": null,
      "outputs": [
        {
          "output_type": "execute_result",
          "data": {
            "text/plain": [
              "(array([1]), array([1]))"
            ]
          },
          "metadata": {
            "tags": []
          },
          "execution_count": 15
        }
      ]
    },
    {
      "cell_type": "code",
      "metadata": {
        "id": "C67EPyXrYqEt",
        "outputId": "5492150d-1bc9-41a9-81c5-288c1aa068eb"
      },
      "source": [
        "# ReversibleSwap() duplicates the Top of Stack and returns the stack\n",
        "sl = tl.ReversibleSwap()\n",
        "sl([x1, x2])"
      ],
      "execution_count": null,
      "outputs": [
        {
          "output_type": "execute_result",
          "data": {
            "text/plain": [
              "(array([5]), array([1]))"
            ]
          },
          "metadata": {
            "tags": []
          },
          "execution_count": 16
        }
      ]
    },
    {
      "cell_type": "markdown",
      "metadata": {
        "id": "olMnp2TXYqEu"
      },
      "source": [
        "You are no doubt wondering \"How is ReversibleSwap different from Swap?\". Good question! Lets look:\n",
        "<img src = \"images/Revnet5.png\" height=\"389\" width=\"1000\">\n",
        "<center><b>Figure 11: Two versions of Swap() </b></center>\n",
        "The ReverseXYZ functions include a \"reverse\" compliment to their \"forward\" function that provides the functionality to run in reverse when doing backpropagation. It can also be run in reverse by simply calling 'reverse'."
      ]
    },
    {
      "cell_type": "code",
      "metadata": {
        "id": "XeK4b7bhYqEu",
        "outputId": "ea1bc901-d7f1-4668-d037-42e3b6201ad7"
      },
      "source": [
        "# Demonstrate reverse swap\n",
        "print(x1, x2, sl.reverse([x1, x2]))"
      ],
      "execution_count": null,
      "outputs": [
        {
          "output_type": "stream",
          "text": [
            "[1] [5] (array([5]), array([1]))\n"
          ],
          "name": "stdout"
        }
      ]
    },
    {
      "cell_type": "markdown",
      "metadata": {
        "id": "lKr4Ge1fYqEu"
      },
      "source": [
        "Let's try ReversibleHalfResidual, First we'll need some layers.."
      ]
    },
    {
      "cell_type": "code",
      "metadata": {
        "id": "RGvwkKZTYqEu"
      },
      "source": [
        "Fl = tl.Fn(\"F\", lambda x0: (2 * x0), n_out=1)\n",
        "Gl = tl.Fn(\"G\", lambda x0: (10 * x0), n_out=1)"
      ],
      "execution_count": null,
      "outputs": []
    },
    {
      "cell_type": "markdown",
      "metadata": {
        "id": "Z861hWX6YqEv"
      },
      "source": [
        "Just a note about ReversibleHalfResidual. As this is written, it resides in the Reformer model and is a layer. It is invoked a bit differently that other layers. Rather than tl.XYZ, it is just ReversibleHalfResidual(layers..) as shown below. This may change in the future."
      ]
    },
    {
      "cell_type": "code",
      "metadata": {
        "id": "J_2jXeNTYqEv",
        "outputId": "49b93d6e-115b-40fa-fca0-cb775e2cccf5"
      },
      "source": [
        "half_res_F = ReversibleHalfResidual(Fl)\n",
        "print(type(half_res_F), \"\\n\", half_res_F)"
      ],
      "execution_count": null,
      "outputs": [
        {
          "output_type": "stream",
          "text": [
            "<class 'trax.models.reformer.reformer.ReversibleHalfResidualV2'> \n",
            " ReversibleHalfResidualV2_in2_out2[\n",
            "  Serial[\n",
            "    F\n",
            "  ]\n",
            "]\n"
          ],
          "name": "stdout"
        }
      ]
    },
    {
      "cell_type": "code",
      "metadata": {
        "id": "ilQipoNPYqEv",
        "outputId": "b2aeab55-f62f-4863-fdfd-368893480481"
      },
      "source": [
        "half_res_F([x1, x1])  # this is going to produce an error - why?"
      ],
      "execution_count": null,
      "outputs": [
        {
          "output_type": "error",
          "ename": "LayerError",
          "evalue": "Exception passing through layer ReversibleHalfResidualV2 (in pure_fn):\n  layer created in file [...]/models/reformer/reformer.py, line 90\n  layer input shapes: [ShapeDtype{shape:(1,), dtype:int64}, ShapeDtype{shape:(1,), dtype:int64}]\n\n  File [...]/trax/layers/base.py, line 390, in weights\n    f'Number of weight elements ({len(weights)}) does not equal the '\n\nValueError: Number of weight elements (0) does not equal the number of sublayers (1) in: ReversibleHalfResidualV2_in2_out2[\n  Serial[\n\n    F\n  ]\n\n].",
          "traceback": [
            "\u001b[0;31m---------------------------------------------------------------------------\u001b[0m",
            "\u001b[0;31mLayerError\u001b[0m                                Traceback (most recent call last)",
            "\u001b[0;32m<ipython-input-20-d8b20394ac27>\u001b[0m in \u001b[0;36m<module>\u001b[0;34m\u001b[0m\n\u001b[0;32m----> 1\u001b[0;31m \u001b[0mhalf_res_F\u001b[0m\u001b[0;34m(\u001b[0m\u001b[0;34m[\u001b[0m\u001b[0mx1\u001b[0m\u001b[0;34m,\u001b[0m \u001b[0mx1\u001b[0m\u001b[0;34m]\u001b[0m\u001b[0;34m)\u001b[0m  \u001b[0;31m# this is going to produce an error - why?\u001b[0m\u001b[0;34m\u001b[0m\u001b[0;34m\u001b[0m\u001b[0m\n\u001b[0m",
            "\u001b[0;32m/opt/conda/lib/python3.7/site-packages/trax/layers/base.py\u001b[0m in \u001b[0;36m__call__\u001b[0;34m(self, x, weights, state, rng)\u001b[0m\n\u001b[1;32m    171\u001b[0m       \u001b[0mself\u001b[0m\u001b[0;34m.\u001b[0m\u001b[0mstate\u001b[0m \u001b[0;34m=\u001b[0m \u001b[0mstate\u001b[0m  \u001b[0;31m# Needed if the model wasn't fully initialized.\u001b[0m\u001b[0;34m\u001b[0m\u001b[0;34m\u001b[0m\u001b[0m\n\u001b[1;32m    172\u001b[0m     \u001b[0mstate\u001b[0m \u001b[0;34m=\u001b[0m \u001b[0mself\u001b[0m\u001b[0;34m.\u001b[0m\u001b[0mstate\u001b[0m\u001b[0;34m\u001b[0m\u001b[0;34m\u001b[0m\u001b[0m\n\u001b[0;32m--> 173\u001b[0;31m     \u001b[0moutputs\u001b[0m\u001b[0;34m,\u001b[0m \u001b[0mnew_state\u001b[0m \u001b[0;34m=\u001b[0m \u001b[0mself\u001b[0m\u001b[0;34m.\u001b[0m\u001b[0mpure_fn\u001b[0m\u001b[0;34m(\u001b[0m\u001b[0mx\u001b[0m\u001b[0;34m,\u001b[0m \u001b[0mweights\u001b[0m\u001b[0;34m,\u001b[0m \u001b[0mstate\u001b[0m\u001b[0;34m,\u001b[0m \u001b[0mrng\u001b[0m\u001b[0;34m)\u001b[0m\u001b[0;34m\u001b[0m\u001b[0;34m\u001b[0m\u001b[0m\n\u001b[0m\u001b[1;32m    174\u001b[0m     \u001b[0mself\u001b[0m\u001b[0;34m.\u001b[0m\u001b[0mstate\u001b[0m \u001b[0;34m=\u001b[0m \u001b[0mnew_state\u001b[0m\u001b[0;34m\u001b[0m\u001b[0;34m\u001b[0m\u001b[0m\n\u001b[1;32m    175\u001b[0m     \u001b[0mself\u001b[0m\u001b[0;34m.\u001b[0m\u001b[0mweights\u001b[0m \u001b[0;34m=\u001b[0m \u001b[0mweights\u001b[0m\u001b[0;34m\u001b[0m\u001b[0;34m\u001b[0m\u001b[0m\n",
            "\u001b[0;32m/opt/conda/lib/python3.7/site-packages/trax/layers/base.py\u001b[0m in \u001b[0;36mpure_fn\u001b[0;34m(self, x, weights, state, rng, use_cache)\u001b[0m\n\u001b[1;32m    521\u001b[0m       \u001b[0mname\u001b[0m\u001b[0;34m,\u001b[0m \u001b[0mtrace\u001b[0m \u001b[0;34m=\u001b[0m \u001b[0mself\u001b[0m\u001b[0;34m.\u001b[0m\u001b[0m_name\u001b[0m\u001b[0;34m,\u001b[0m \u001b[0m_short_traceback\u001b[0m\u001b[0;34m(\u001b[0m\u001b[0mskip\u001b[0m\u001b[0;34m=\u001b[0m\u001b[0;36m3\u001b[0m\u001b[0;34m)\u001b[0m\u001b[0;34m\u001b[0m\u001b[0;34m\u001b[0m\u001b[0m\n\u001b[1;32m    522\u001b[0m       raise LayerError(name, 'pure_fn',\n\u001b[0;32m--> 523\u001b[0;31m                        self._caller, signature(x), trace) from None\n\u001b[0m\u001b[1;32m    524\u001b[0m \u001b[0;34m\u001b[0m\u001b[0m\n\u001b[1;32m    525\u001b[0m   \u001b[0;32mdef\u001b[0m \u001b[0moutput_signature\u001b[0m\u001b[0;34m(\u001b[0m\u001b[0mself\u001b[0m\u001b[0;34m,\u001b[0m \u001b[0minput_signature\u001b[0m\u001b[0;34m)\u001b[0m\u001b[0;34m:\u001b[0m\u001b[0;34m\u001b[0m\u001b[0;34m\u001b[0m\u001b[0m\n",
            "\u001b[0;31mLayerError\u001b[0m: Exception passing through layer ReversibleHalfResidualV2 (in pure_fn):\n  layer created in file [...]/models/reformer/reformer.py, line 90\n  layer input shapes: [ShapeDtype{shape:(1,), dtype:int64}, ShapeDtype{shape:(1,), dtype:int64}]\n\n  File [...]/trax/layers/base.py, line 390, in weights\n    f'Number of weight elements ({len(weights)}) does not equal the '\n\nValueError: Number of weight elements (0) does not equal the number of sublayers (1) in: ReversibleHalfResidualV2_in2_out2[\n  Serial[\n\n    F\n  ]\n\n]."
          ]
        }
      ]
    },
    {
      "cell_type": "code",
      "metadata": {
        "id": "IcmJprBvYqEw"
      },
      "source": [
        "# we have to initialize the ReversibleHalfResidual layer to let it know what the input is going to look like\n",
        "half_res_F.init(shapes.signature([x1, x1]))\n",
        "half_res_F([x1, x1])"
      ],
      "execution_count": null,
      "outputs": []
    },
    {
      "cell_type": "markdown",
      "metadata": {
        "id": "gsP07k8HYqEw"
      },
      "source": [
        "Notice the output: (DeviceArray([3], dtype=int32), array([1])). The first value, (DeviceArray([3], dtype=int32) is the output of the \"Fl\" layer and has been converted to a 'Jax' DeviceArray. The second array([1]) is just passed through (recall the diagram of ReversibleHalfResidual above)."
      ]
    },
    {
      "cell_type": "markdown",
      "metadata": {
        "id": "mDym_WnaYqEw"
      },
      "source": [
        "The final layer we need is the ReversibleSerial Layer. This is the reversible equivalent of the Serial layer and is used in the same manner to build a sequence of layers."
      ]
    },
    {
      "cell_type": "markdown",
      "metadata": {
        "id": "rmZOjjffgPA5"
      },
      "source": [
        "<a name=\"2.2\"></a>\n",
        "### Part 2.2  Build a reversible model"
      ]
    },
    {
      "cell_type": "markdown",
      "metadata": {
        "id": "b4_wdoOCYqEw"
      },
      "source": [
        "\n",
        "We now have all the layers we need to build the model shown below. Let's build it in two parts. First we'll build 'blk' and then a list of blk's. And then 'mod'.\n",
        "<center><img src = \"images/Revnet6.png\" height=\"800\" width=\"1600\"> </center>\n",
        "<center><b>Figure 12: Reversible Model we will build using Trax components </b></center>"
      ]
    },
    {
      "cell_type": "code",
      "metadata": {
        "id": "6I54Fb5WYqEw"
      },
      "source": [
        "blk = [  # a list of the 4 layers shown above\n",
        "    ### START CODE HERE ###\n",
        "    ,\n",
        "    None,\n",
        "    None,\n",
        "    None,\n",
        "]\n",
        "blks = [None, None]\n",
        "### END CODE HERE ###"
      ],
      "execution_count": null,
      "outputs": []
    },
    {
      "cell_type": "code",
      "metadata": {
        "id": "kB0uV7QRYqEw",
        "outputId": "686e8d53-7a33-4062-bdee-6022f98b09f1"
      },
      "source": [
        "mod = tl.Serial(\n",
        "    ### START CODE HERE ###\n",
        "    None,\n",
        "    None,\n",
        "    None,\n",
        "    ### END CODE HERE ###\n",
        ")\n",
        "mod"
      ],
      "execution_count": null,
      "outputs": [
        {
          "output_type": "error",
          "ename": "ValueError",
          "evalue": "Found nonlayer object (None) in layers: [None, None, None]",
          "traceback": [
            "\u001b[0;31m---------------------------------------------------------------------------\u001b[0m",
            "\u001b[0;31mValueError\u001b[0m                                Traceback (most recent call last)",
            "\u001b[0;32m<ipython-input-22-1cb13e8d2e1d>\u001b[0m in \u001b[0;36m<module>\u001b[0;34m\u001b[0m\n\u001b[1;32m      3\u001b[0m     \u001b[0;32mNone\u001b[0m\u001b[0;34m,\u001b[0m\u001b[0;34m\u001b[0m\u001b[0;34m\u001b[0m\u001b[0m\n\u001b[1;32m      4\u001b[0m     \u001b[0;32mNone\u001b[0m\u001b[0;34m,\u001b[0m\u001b[0;34m\u001b[0m\u001b[0;34m\u001b[0m\u001b[0m\n\u001b[0;32m----> 5\u001b[0;31m     \u001b[0;32mNone\u001b[0m\u001b[0;34m,\u001b[0m\u001b[0;34m\u001b[0m\u001b[0;34m\u001b[0m\u001b[0m\n\u001b[0m\u001b[1;32m      6\u001b[0m     \u001b[0;31m### END CODE HERE ###\u001b[0m\u001b[0;34m\u001b[0m\u001b[0;34m\u001b[0m\u001b[0;34m\u001b[0m\u001b[0m\n\u001b[1;32m      7\u001b[0m )\n",
            "\u001b[0;32m/opt/conda/lib/python3.7/site-packages/trax/layers/combinators.py\u001b[0m in \u001b[0;36m__init__\u001b[0;34m(self, name, sublayers_to_print, *sublayers)\u001b[0m\n\u001b[1;32m     56\u001b[0m         name=name, sublayers_to_print=sublayers_to_print)\n\u001b[1;32m     57\u001b[0m \u001b[0;34m\u001b[0m\u001b[0m\n\u001b[0;32m---> 58\u001b[0;31m     \u001b[0msublayers\u001b[0m \u001b[0;34m=\u001b[0m \u001b[0m_ensure_flat\u001b[0m\u001b[0;34m(\u001b[0m\u001b[0msublayers\u001b[0m\u001b[0;34m)\u001b[0m\u001b[0;34m\u001b[0m\u001b[0;34m\u001b[0m\u001b[0m\n\u001b[0m\u001b[1;32m     59\u001b[0m     \u001b[0mself\u001b[0m\u001b[0;34m.\u001b[0m\u001b[0m_sublayers\u001b[0m \u001b[0;34m=\u001b[0m \u001b[0msublayers\u001b[0m\u001b[0;34m\u001b[0m\u001b[0;34m\u001b[0m\u001b[0m\n\u001b[1;32m     60\u001b[0m     \u001b[0mself\u001b[0m\u001b[0;34m.\u001b[0m\u001b[0m_n_layers\u001b[0m \u001b[0;34m=\u001b[0m \u001b[0mlen\u001b[0m\u001b[0;34m(\u001b[0m\u001b[0msublayers\u001b[0m\u001b[0;34m)\u001b[0m\u001b[0;34m\u001b[0m\u001b[0;34m\u001b[0m\u001b[0m\n",
            "\u001b[0;32m/opt/conda/lib/python3.7/site-packages/trax/layers/combinators.py\u001b[0m in \u001b[0;36m_ensure_flat\u001b[0;34m(layers)\u001b[0m\n\u001b[1;32m    819\u001b[0m     \u001b[0;32mif\u001b[0m \u001b[0;32mnot\u001b[0m \u001b[0misinstance\u001b[0m\u001b[0;34m(\u001b[0m\u001b[0mobj\u001b[0m\u001b[0;34m,\u001b[0m \u001b[0mbase\u001b[0m\u001b[0;34m.\u001b[0m\u001b[0mLayer\u001b[0m\u001b[0;34m)\u001b[0m\u001b[0;34m:\u001b[0m\u001b[0;34m\u001b[0m\u001b[0;34m\u001b[0m\u001b[0m\n\u001b[1;32m    820\u001b[0m       raise ValueError(\n\u001b[0;32m--> 821\u001b[0;31m           f'Found nonlayer object ({obj}) in layers: {layers}')\n\u001b[0m\u001b[1;32m    822\u001b[0m   \u001b[0;32mreturn\u001b[0m \u001b[0mlayers\u001b[0m\u001b[0;34m\u001b[0m\u001b[0;34m\u001b[0m\u001b[0m\n",
            "\u001b[0;31mValueError\u001b[0m: Found nonlayer object (None) in layers: [None, None, None]"
          ]
        }
      ]
    },
    {
      "cell_type": "markdown",
      "metadata": {
        "id": "1aPfKUIKYqEx"
      },
      "source": [
        "**Expected Output**\n",
        "```\n",
        "Serial[\n",
        "  Dup_out2\n",
        "  ReversibleSerial_in2_out2[\n",
        "    ReversibleHalfResidualV2_in2_out2[\n",
        "      Serial[\n",
        "        F\n",
        "      ]\n",
        "    ]\n",
        "    ReversibleSwap_in2_out2\n",
        "    ReversibleHalfResidualV2_in2_out2[\n",
        "      Serial[\n",
        "        G\n",
        "      ]\n",
        "    ]\n",
        "    ReversibleSwap_in2_out2\n",
        "    ReversibleHalfResidualV2_in2_out2[\n",
        "      Serial[\n",
        "        F\n",
        "      ]\n",
        "    ]\n",
        "    ReversibleSwap_in2_out2\n",
        "    ReversibleHalfResidualV2_in2_out2[\n",
        "      Serial[\n",
        "        G\n",
        "      ]\n",
        "    ]\n",
        "    ReversibleSwap_in2_out2\n",
        "  ]\n",
        "  Concatenate_in2\n",
        "]\n",
        "```"
      ]
    },
    {
      "cell_type": "code",
      "metadata": {
        "id": "AIO_KCwSYqEx"
      },
      "source": [
        "mod.init(shapes.signature(x1))\n",
        "out = mod(x1)\n",
        "out"
      ],
      "execution_count": null,
      "outputs": []
    },
    {
      "cell_type": "markdown",
      "metadata": {
        "id": "YsyZuaS3YqEx"
      },
      "source": [
        "**Expected Result**\n",
        "DeviceArray([ 65, 681], dtype=int32)"
      ]
    },
    {
      "cell_type": "markdown",
      "metadata": {
        "id": "c9HZm4YVYqEx"
      },
      "source": [
        "OK, now you have had a chance to try all the 'Reversible' functions in Trax. On to the Assignment!"
      ]
    }
  ]
}